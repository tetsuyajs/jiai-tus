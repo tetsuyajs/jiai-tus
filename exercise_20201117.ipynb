{
  "nbformat": 4,
  "nbformat_minor": 0,
  "metadata": {
    "colab": {
      "name": "exercise_20201117.ipynb",
      "provenance": [],
      "include_colab_link": true
    },
    "kernelspec": {
      "name": "python3",
      "display_name": "Python 3"
    }
  },
  "cells": [
    {
      "cell_type": "markdown",
      "metadata": {
        "id": "view-in-github",
        "colab_type": "text"
      },
      "source": [
        "<a href=\"https://colab.research.google.com/github/tetsuyajs/jiai-tus/blob/main/exercise_20201117.ipynb\" target=\"_parent\"><img src=\"https://colab.research.google.com/assets/colab-badge.svg\" alt=\"Open In Colab\"/></a>"
      ]
    },
    {
      "cell_type": "markdown",
      "metadata": {
        "id": "dD2Bkd3nuNz-"
      },
      "source": [
        "### 課題1.\n",
        "入力された自然数の素因数分解を行うプログラムの作成"
      ]
    },
    {
      "cell_type": "code",
      "metadata": {
        "id": "QvUEFhY3eu7B"
      },
      "source": [
        "def func1(x, y=[], z=2):\n",
        "  if x <= z:\n",
        "    return y+[z]\n",
        "  \n",
        "  a = x / z\n",
        "  b = x % z\n",
        "  if b == 0:\n",
        "    return func1(a, y+[z], z)\n",
        "  \n",
        "  return func1(x, y, z+1)"
      ],
      "execution_count": 30,
      "outputs": []
    },
    {
      "cell_type": "code",
      "metadata": {
        "id": "tB012EkyvlMm",
        "outputId": "9235548d-54be-40b2-96e6-4f10ab7c44ea",
        "colab": {
          "base_uri": "https://localhost:8080/"
        }
      },
      "source": [
        "func1(501)"
      ],
      "execution_count": 108,
      "outputs": [
        {
          "output_type": "execute_result",
          "data": {
            "text/plain": [
              "[3, 167]"
            ]
          },
          "metadata": {
            "tags": []
          },
          "execution_count": 108
        }
      ]
    },
    {
      "cell_type": "markdown",
      "metadata": {
        "id": "rVvaZooMuOcO"
      },
      "source": [
        "### 課題2.\n",
        "入力された自然数以下の素数を書き出すプログラム\\\n",
        "または、入力された自然数の素数判定をするプログラム　の作成"
      ]
    },
    {
      "cell_type": "code",
      "metadata": {
        "id": "dwUvMCxWuO7Z"
      },
      "source": [
        "def func2(x):\n",
        "  a = []\n",
        "  for b in range(x, 1, -1):\n",
        "    c = func1(b)\n",
        "    if len(c) == 1:\n",
        "      a = a + [b]\n",
        "  return a"
      ],
      "execution_count": 61,
      "outputs": []
    },
    {
      "cell_type": "code",
      "metadata": {
        "id": "f3hXMFsFvmal",
        "outputId": "6261caa0-dcb9-45d6-9d74-b6669923fdb0",
        "colab": {
          "base_uri": "https://localhost:8080/"
        }
      },
      "source": [
        "func2(10)"
      ],
      "execution_count": 62,
      "outputs": [
        {
          "output_type": "execute_result",
          "data": {
            "text/plain": [
              "[7, 5, 3, 2]"
            ]
          },
          "metadata": {
            "tags": []
          },
          "execution_count": 62
        }
      ]
    },
    {
      "cell_type": "markdown",
      "metadata": {
        "id": "B0cYkK4BuPGo"
      },
      "source": [
        "### 課題3.\n",
        "入力された10進数の数字を、別に入力された数字のn進数へと変換するプログラムの作成"
      ]
    },
    {
      "cell_type": "code",
      "metadata": {
        "id": "s7U4wIxVuPON"
      },
      "source": [
        "def func3(x, n):\n",
        "  a = [[0]]  # answer\n",
        "  for i in range(1, x+1):\n",
        "    if a[0][0] != n:\n",
        "      a[0][0] = a[0][0] + 1\n",
        "    else:\n",
        "      while True:\n",
        "        break\n",
        "\n",
        "\n",
        "  return a"
      ],
      "execution_count": 105,
      "outputs": []
    },
    {
      "cell_type": "code",
      "metadata": {
        "id": "tpwnkDeJvmx9",
        "outputId": "bda688d3-151a-48ba-c45a-dc5747acdd4a",
        "colab": {
          "base_uri": "https://localhost:8080/"
        }
      },
      "source": [
        "func3(5, 15)"
      ],
      "execution_count": 107,
      "outputs": [
        {
          "output_type": "stream",
          "text": [
            "1\n",
            "1\n",
            "1\n",
            "1\n",
            "1\n"
          ],
          "name": "stdout"
        },
        {
          "output_type": "execute_result",
          "data": {
            "text/plain": [
              "[[6]]"
            ]
          },
          "metadata": {
            "tags": []
          },
          "execution_count": 107
        }
      ]
    },
    {
      "cell_type": "markdown",
      "metadata": {
        "id": "fvOXDs1uuPTl"
      },
      "source": [
        "### 課題4.\n",
        "自然対数の底（ネイピア数）$e$　または、円周率$\\pi$　の近似値を計算するプログラムの作成\\\n",
        "その際、積み残し誤差の比較ができるような２通り以上の計算を実装すること\n",
        "\n",
        "\n",
        "\\\n",
        "$e$の定義\\\n",
        "$\n",
        "\\displaystyle\n",
        "e = \\lim_{x \\to 0}\\left(1 + x\\right)^{\\left(\\dfrac{1}{x}\\right)} = \\lim_{x \\to \\infty}\\left(1 + \\dfrac{1}{x}\\right)^{x}\n",
        "$\n",
        "\n",
        "\n",
        "\\\n",
        "$\\pi$の計算式の一例\\\n",
        "$\n",
        "\\displaystyle\n",
        "\\dfrac{\\pi}{4} = \\sum_{n = 0}^{\\infty} \\dfrac{\\left(-1\\right)^n}{2n + 1}\\\\\n",
        "\\displaystyle\n",
        "\\dfrac{{\\pi}^2}{6} = \\sum_{n = 1}^{\\infty} \\dfrac{1}{n^2}\\\\\n",
        "$"
      ]
    },
    {
      "cell_type": "code",
      "metadata": {
        "id": "CJBWMx5guPcq"
      },
      "source": [
        ""
      ],
      "execution_count": null,
      "outputs": []
    },
    {
      "cell_type": "code",
      "metadata": {
        "id": "0JAZ0z_RvnCw"
      },
      "source": [
        ""
      ],
      "execution_count": null,
      "outputs": []
    }
  ]
}