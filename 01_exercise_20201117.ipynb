{
  "nbformat": 4,
  "nbformat_minor": 0,
  "metadata": {
    "colab": {
      "name": "01_exercise_20201117.ipynb",
      "provenance": [],
      "include_colab_link": true
    },
    "kernelspec": {
      "name": "python3",
      "display_name": "Python 3"
    }
  },
  "cells": [
    {
      "cell_type": "markdown",
      "metadata": {
        "id": "view-in-github",
        "colab_type": "text"
      },
      "source": [
        "<a href=\"https://colab.research.google.com/github/tetsuyajs/jiai-tus/blob/main/01_exercise_20201117.ipynb\" target=\"_parent\"><img src=\"https://colab.research.google.com/assets/colab-badge.svg\" alt=\"Open In Colab\"/></a>"
      ]
    },
    {
      "cell_type": "markdown",
      "metadata": {
        "id": "dD2Bkd3nuNz-"
      },
      "source": [
        "### 課題1.\n",
        "入力された自然数の素因数分解を行うプログラムの作成"
      ]
    },
    {
      "cell_type": "code",
      "metadata": {
        "id": "QvUEFhY3eu7B"
      },
      "source": [
        "def func1(x, y=[], z=2):\n",
        "  if x <= z:\n",
        "    return y+[z]\n",
        "  \n",
        "  a = x / z\n",
        "  b = x % z\n",
        "  if b == 0:\n",
        "    return func1(a, y+[z], z)\n",
        "  \n",
        "  return func1(x, y, z+1)"
      ],
      "execution_count": null,
      "outputs": []
    },
    {
      "cell_type": "code",
      "metadata": {
        "id": "tB012EkyvlMm",
        "colab": {
          "base_uri": "https://localhost:8080/"
        },
        "outputId": "9235548d-54be-40b2-96e6-4f10ab7c44ea"
      },
      "source": [
        "func1(501)"
      ],
      "execution_count": null,
      "outputs": [
        {
          "output_type": "execute_result",
          "data": {
            "text/plain": [
              "[3, 167]"
            ]
          },
          "metadata": {
            "tags": []
          },
          "execution_count": 108
        }
      ]
    },
    {
      "cell_type": "markdown",
      "metadata": {
        "id": "rVvaZooMuOcO"
      },
      "source": [
        "### 課題2.\n",
        "入力された自然数以下の素数を書き出すプログラム\\\n",
        "または、入力された自然数の素数判定をするプログラム　の作成"
      ]
    },
    {
      "cell_type": "code",
      "metadata": {
        "id": "dwUvMCxWuO7Z"
      },
      "source": [
        "def func2(x):\n",
        "  a = []\n",
        "  for b in range(x, 1, -1):\n",
        "    c = func1(b)\n",
        "    if len(c) == 1:\n",
        "      a = a + [b]\n",
        "  return a"
      ],
      "execution_count": null,
      "outputs": []
    },
    {
      "cell_type": "code",
      "metadata": {
        "id": "f3hXMFsFvmal",
        "colab": {
          "base_uri": "https://localhost:8080/"
        },
        "outputId": "6261caa0-dcb9-45d6-9d74-b6669923fdb0"
      },
      "source": [
        "func2(10)"
      ],
      "execution_count": null,
      "outputs": [
        {
          "output_type": "execute_result",
          "data": {
            "text/plain": [
              "[7, 5, 3, 2]"
            ]
          },
          "metadata": {
            "tags": []
          },
          "execution_count": 62
        }
      ]
    },
    {
      "cell_type": "markdown",
      "metadata": {
        "id": "B0cYkK4BuPGo"
      },
      "source": [
        "### 課題3.\n",
        "入力された10進数の数字を、別に入力された数字のn進数へと変換するプログラムの作成"
      ]
    },
    {
      "cell_type": "code",
      "metadata": {
        "id": "s7U4wIxVuPON"
      },
      "source": [
        "def func3(x, n):\n",
        "  \"\"\"\n",
        "  int : x\n",
        "    変換させたい数字\n",
        "  int : n\n",
        "    n進数のn\n",
        "  \"\"\"\n",
        "\n",
        "  a1 = [0]  # 変換後の数値を格納する配列。利便上、先頭が一桁目\n",
        "  for i in range(1, x+1):\n",
        "\n",
        "    keta = 1  # 判定中の桁\n",
        "    while True:\n",
        "      if len(a1) < keta:\n",
        "        a1 = a1 + [1]\n",
        "        break\n",
        "      if a1[keta-1] == n-1:\n",
        "        a1[keta-1] = 0\n",
        "      else:\n",
        "        a1[keta-1] = a1[keta-1] + 1\n",
        "        break\n",
        "      keta = keta + 1\n",
        "\n",
        "  a2 = []\n",
        "  for i in range(len(a1)):\n",
        "    a2.append(a1[len(a1)-i-1])\n",
        "\n",
        "  return a2"
      ],
      "execution_count": 1,
      "outputs": []
    },
    {
      "cell_type": "code",
      "metadata": {
        "id": "tpwnkDeJvmx9",
        "colab": {
          "base_uri": "https://localhost:8080/"
        },
        "outputId": "cce5faf5-cc35-46b8-868f-e67faa2749a8"
      },
      "source": [
        "func3(500, 16)"
      ],
      "execution_count": 2,
      "outputs": [
        {
          "output_type": "execute_result",
          "data": {
            "text/plain": [
              "[1, 15, 4]"
            ]
          },
          "metadata": {
            "tags": []
          },
          "execution_count": 2
        }
      ]
    },
    {
      "cell_type": "markdown",
      "metadata": {
        "id": "fvOXDs1uuPTl"
      },
      "source": [
        "### 課題4.\n",
        "自然対数の底（ネイピア数）$e$　または、円周率$\\pi$　の近似値を計算するプログラムの作成\\\n",
        "その際、積み残し誤差の比較ができるような２通り以上の計算を実装すること\n",
        "\n",
        "\n",
        "\\\n",
        "$e$の定義\\\n",
        "$\n",
        "\\displaystyle\n",
        "e = \\lim_{x \\to 0}\\left(1 + x\\right)^{\\left(\\dfrac{1}{x}\\right)} = \\lim_{x \\to \\infty}\\left(1 + \\dfrac{1}{x}\\right)^{x}\n",
        "$\n",
        "\n",
        "\n",
        "\\\n",
        "$\\pi$の計算式の一例\\\n",
        "$\n",
        "\\displaystyle\n",
        "\\dfrac{\\pi}{4} = \\sum_{n = 0}^{\\infty} \\dfrac{\\left(-1\\right)^n}{2n + 1}\\\\\n",
        "\\displaystyle\n",
        "\\dfrac{{\\pi}^2}{6} = \\sum_{n = 1}^{\\infty} \\dfrac{1}{n^2}\\\\\n",
        "$"
      ]
    },
    {
      "cell_type": "code",
      "metadata": {
        "id": "CJBWMx5guPcq",
        "colab": {
          "base_uri": "https://localhost:8080/"
        },
        "outputId": "53ba82ba-940e-4969-b681-9e76eb08731f"
      },
      "source": [
        "from math import sqrt\n",
        "\n",
        "def napier1(x, n):\n",
        "  # 近似計算の方法がわからないので、計算開始の値をx、終わりを0、その間にn回計算を繰り返し、最後の答えだけ出力\n",
        "  a1 = 0\n",
        "  for i in range(n):\n",
        "    x2 = (x - 0) / n * (n - i)\n",
        "    a1 = (1 + x2) ** (1 / x2)\n",
        "  return a1\n",
        "\n",
        "def napier2(x, n, s=10000):\n",
        "  a1 = 0\n",
        "  for i in range(n):\n",
        "    x2 = x + s * n\n",
        "    a1 = (1 + (1 / x2)) ** x2\n",
        "  return a1\n",
        "\n",
        "def pi1(n1):\n",
        "  a1 = 0\n",
        "  for n2 in range(n1):\n",
        "    a1 = a1 + ((-1) ** n2) / (2 * n2 + 1)\n",
        "  return a1 * 4\n",
        "\n",
        "def pi2(n1):\n",
        "  a1 = 0\n",
        "  for n2 in range(1, n1):\n",
        "    a1 = a1 + (1 / (n2 ** 2))\n",
        "  return sqrt(a1 * 6)\n",
        "\n",
        "print(napier1(0.000000001, 1000))\n",
        "print(napier2(100000000, 1000))\n",
        "print(pi1(10000))\n",
        "print(pi2(10000))"
      ],
      "execution_count": 21,
      "outputs": [
        {
          "output_type": "stream",
          "text": [
            "2.7185234960372378\n",
            "2.7182818297619304\n",
            "3.1414926535900345\n",
            "3.1414971543976273\n"
          ],
          "name": "stdout"
        }
      ]
    },
    {
      "cell_type": "code",
      "metadata": {
        "id": "0JAZ0z_RvnCw",
        "colab": {
          "base_uri": "https://localhost:8080/"
        },
        "outputId": "a6b41a4e-bd03-435a-f066-9f61555649cc"
      },
      "source": [
        ""
      ],
      "execution_count": null,
      "outputs": [
        {
          "output_type": "execute_result",
          "data": {
            "text/plain": [
              "1026.6267293190767"
            ]
          },
          "metadata": {
            "tags": []
          },
          "execution_count": 20
        }
      ]
    }
  ]
}