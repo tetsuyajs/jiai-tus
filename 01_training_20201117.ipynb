{
  "nbformat": 4,
  "nbformat_minor": 0,
  "metadata": {
    "colab": {
      "name": "01_training_20201117.ipynb",
      "provenance": [],
      "collapsed_sections": [
        "urZi2dgMwvEg",
        "jYC6BUTegAeA",
        "_rYjY_jbgPH8",
        "jsfXxKXSgZ43",
        "vx4K41jyga37",
        "0qiYz8lQiMdH",
        "6lvPhxGsgasr",
        "Ff9fOMOcb0zJ",
        "w5yYo5bWgwkQ",
        "Dk_O25rKwpGh",
        "6Ga_0EYohsVe",
        "1bpAitAqmy5z",
        "4M4dEiEsgtk6",
        "wuK2B2ehzl5a",
        "3BgFmOpHmu0Z",
        "3F34vasWnRqw",
        "vhF1TSJ4wo34",
        "13_K9wbben8T",
        "sRjAss0mfHJ2",
        "o2OzKBDCtAK-",
        "0k315Xtfwof4",
        "Lg6WdZwYwoTS",
        "pLaRQokawoHf",
        "gKiPk-Apwn4I",
        "lRVQAr1SwnnD"
      ],
      "include_colab_link": true
    },
    "kernelspec": {
      "name": "python3",
      "display_name": "Python 3"
    }
  },
  "cells": [
    {
      "cell_type": "markdown",
      "metadata": {
        "id": "view-in-github",
        "colab_type": "text"
      },
      "source": [
        "<a href=\"https://colab.research.google.com/github/tetsuyajs/jiai-tus/blob/main/01_training_20201117.ipynb\" target=\"_parent\"><img src=\"https://colab.research.google.com/assets/colab-badge.svg\" alt=\"Open In Colab\"/></a>"
      ]
    },
    {
      "cell_type": "markdown",
      "metadata": {
        "id": "urZi2dgMwvEg"
      },
      "source": [
        "### 1. 数値の計算"
      ]
    },
    {
      "cell_type": "markdown",
      "metadata": {
        "id": "jYC6BUTegAeA"
      },
      "source": [
        "#### 足し算は　+"
      ]
    },
    {
      "cell_type": "code",
      "metadata": {
        "id": "PMGCXhU2GTVi",
        "colab": {
          "base_uri": "https://localhost:8080/"
        },
        "outputId": "2603adab-ddde-402b-dbbd-637ade490dac"
      },
      "source": [
        "11 + 17"
      ],
      "execution_count": 1,
      "outputs": [
        {
          "output_type": "execute_result",
          "data": {
            "text/plain": [
              "28"
            ]
          },
          "metadata": {
            "tags": []
          },
          "execution_count": 1
        }
      ]
    },
    {
      "cell_type": "code",
      "metadata": {
        "id": "CeF8sbJIlKbG",
        "colab": {
          "base_uri": "https://localhost:8080/"
        },
        "outputId": "91afe33b-3df1-400e-b3fd-9f1119cf2e06"
      },
      "source": [
        "11+17"
      ],
      "execution_count": 2,
      "outputs": [
        {
          "output_type": "execute_result",
          "data": {
            "text/plain": [
              "28"
            ]
          },
          "metadata": {
            "tags": []
          },
          "execution_count": 2
        }
      ]
    },
    {
      "cell_type": "code",
      "metadata": {
        "id": "jZ_rWisbWgQh"
      },
      "source": [
        ""
      ],
      "execution_count": 2,
      "outputs": []
    },
    {
      "cell_type": "code",
      "metadata": {
        "id": "Kcn2_BgAidmE"
      },
      "source": [
        ""
      ],
      "execution_count": 2,
      "outputs": []
    },
    {
      "cell_type": "markdown",
      "metadata": {
        "id": "_rYjY_jbgPH8"
      },
      "source": [
        "#### 引き算は　-（マイナス / 半角ハイフン）"
      ]
    },
    {
      "cell_type": "code",
      "metadata": {
        "id": "G25f4v5kGTbu",
        "colab": {
          "base_uri": "https://localhost:8080/"
        },
        "outputId": "0dc3a0d0-4dbb-4c1c-9c05-31e134f6311b"
      },
      "source": [
        "11 - 17"
      ],
      "execution_count": 3,
      "outputs": [
        {
          "output_type": "execute_result",
          "data": {
            "text/plain": [
              "-6"
            ]
          },
          "metadata": {
            "tags": []
          },
          "execution_count": 3
        }
      ]
    },
    {
      "cell_type": "code",
      "metadata": {
        "id": "xU88T2U5TvLn"
      },
      "source": [
        ""
      ],
      "execution_count": 3,
      "outputs": []
    },
    {
      "cell_type": "code",
      "metadata": {
        "id": "GayJtfX3lLZK"
      },
      "source": [
        ""
      ],
      "execution_count": 3,
      "outputs": []
    },
    {
      "cell_type": "markdown",
      "metadata": {
        "id": "jsfXxKXSgZ43"
      },
      "source": [
        "#### 掛け算は　*（半角アスタリスク / スター）"
      ]
    },
    {
      "cell_type": "code",
      "metadata": {
        "id": "WO5Gtyeygab6",
        "colab": {
          "base_uri": "https://localhost:8080/"
        },
        "outputId": "6d111d50-da6e-45d2-ebe4-e43ac4565e41"
      },
      "source": [
        "11 * 17"
      ],
      "execution_count": 4,
      "outputs": [
        {
          "output_type": "execute_result",
          "data": {
            "text/plain": [
              "187"
            ]
          },
          "metadata": {
            "tags": []
          },
          "execution_count": 4
        }
      ]
    },
    {
      "cell_type": "code",
      "metadata": {
        "id": "yJQPkTsAlLsC"
      },
      "source": [
        ""
      ],
      "execution_count": 4,
      "outputs": []
    },
    {
      "cell_type": "code",
      "metadata": {
        "id": "CTwZsr5Bid97"
      },
      "source": [
        ""
      ],
      "execution_count": 4,
      "outputs": []
    },
    {
      "cell_type": "markdown",
      "metadata": {
        "id": "vx4K41jyga37"
      },
      "source": [
        "#### 乗算は　**"
      ]
    },
    {
      "cell_type": "code",
      "metadata": {
        "id": "2eZCmZmrgay6",
        "colab": {
          "base_uri": "https://localhost:8080/"
        },
        "outputId": "d2194f44-ce6a-4961-be6c-d8e4c636c5ee"
      },
      "source": [
        "11 ** 17"
      ],
      "execution_count": 5,
      "outputs": [
        {
          "output_type": "execute_result",
          "data": {
            "text/plain": [
              "505447028499293771"
            ]
          },
          "metadata": {
            "tags": []
          },
          "execution_count": 5
        }
      ]
    },
    {
      "cell_type": "code",
      "metadata": {
        "id": "5zuegueJlMpz",
        "colab": {
          "base_uri": "https://localhost:8080/"
        },
        "outputId": "a8969f90-3482-40c9-af29-b39385a2a7e9"
      },
      "source": [
        "2 ** 3"
      ],
      "execution_count": 6,
      "outputs": [
        {
          "output_type": "execute_result",
          "data": {
            "text/plain": [
              "8"
            ]
          },
          "metadata": {
            "tags": []
          },
          "execution_count": 6
        }
      ]
    },
    {
      "cell_type": "code",
      "metadata": {
        "id": "C79R95EgifpI"
      },
      "source": [
        ""
      ],
      "execution_count": 6,
      "outputs": []
    },
    {
      "cell_type": "code",
      "metadata": {
        "id": "ngE2nyVHifTa"
      },
      "source": [
        ""
      ],
      "execution_count": 6,
      "outputs": []
    },
    {
      "cell_type": "markdown",
      "metadata": {
        "id": "0qiYz8lQiMdH"
      },
      "source": [
        "#### 複素数も標準対応"
      ]
    },
    {
      "cell_type": "code",
      "metadata": {
        "id": "TMxsZ27WiMwl",
        "colab": {
          "base_uri": "https://localhost:8080/"
        },
        "outputId": "8de43179-9b7c-4117-c11f-6bcbd8aea4d9"
      },
      "source": [
        "11 + 17j"
      ],
      "execution_count": 7,
      "outputs": [
        {
          "output_type": "execute_result",
          "data": {
            "text/plain": [
              "(11+17j)"
            ]
          },
          "metadata": {
            "tags": []
          },
          "execution_count": 7
        }
      ]
    },
    {
      "cell_type": "code",
      "metadata": {
        "id": "qqBGpcP0ivjd"
      },
      "source": [
        "# 虚数単位は j (小文字ジェイ)\n",
        "\n",
        "# 「#」はコメントアウトという機能\n",
        "# 各行ごとに「#」以降に記載された内容は、コンピューターへの命令とみなされない"
      ],
      "execution_count": 8,
      "outputs": []
    },
    {
      "cell_type": "code",
      "metadata": {
        "id": "-skGBPWUim8t",
        "colab": {
          "base_uri": "https://localhost:8080/"
        },
        "outputId": "78c081ef-e284-4790-a18d-b372318966f8"
      },
      "source": [
        "1j ** 2"
      ],
      "execution_count": 9,
      "outputs": [
        {
          "output_type": "execute_result",
          "data": {
            "text/plain": [
              "(-1+0j)"
            ]
          },
          "metadata": {
            "tags": []
          },
          "execution_count": 9
        }
      ]
    },
    {
      "cell_type": "code",
      "metadata": {
        "id": "jEGxEjIxiryT",
        "colab": {
          "base_uri": "https://localhost:8080/"
        },
        "outputId": "046ae66c-033c-451d-eb2d-6a0d2d5b85a2"
      },
      "source": [
        "(20 + 20j) + (11 + 17j)"
      ],
      "execution_count": 10,
      "outputs": [
        {
          "output_type": "execute_result",
          "data": {
            "text/plain": [
              "(31+37j)"
            ]
          },
          "metadata": {
            "tags": []
          },
          "execution_count": 10
        }
      ]
    },
    {
      "cell_type": "code",
      "metadata": {
        "id": "MT2yt8qXirL7",
        "colab": {
          "base_uri": "https://localhost:8080/"
        },
        "outputId": "1ac408fe-21dc-40bc-83bd-b52e58826f41"
      },
      "source": [
        "(20 + 20j) - (11 + 17j)"
      ],
      "execution_count": 11,
      "outputs": [
        {
          "output_type": "execute_result",
          "data": {
            "text/plain": [
              "(9+3j)"
            ]
          },
          "metadata": {
            "tags": []
          },
          "execution_count": 11
        }
      ]
    },
    {
      "cell_type": "code",
      "metadata": {
        "id": "PybwV0GXjUm1",
        "colab": {
          "base_uri": "https://localhost:8080/"
        },
        "outputId": "7ccbb763-f1f0-4142-a647-7f90f5df7bf4"
      },
      "source": [
        "20 + 20j - 11 + 17j"
      ],
      "execution_count": 12,
      "outputs": [
        {
          "output_type": "execute_result",
          "data": {
            "text/plain": [
              "(9+37j)"
            ]
          },
          "metadata": {
            "tags": []
          },
          "execution_count": 12
        }
      ]
    },
    {
      "cell_type": "code",
      "metadata": {
        "id": "IFkookbGvj1p"
      },
      "source": [
        "# ( )括弧の扱いは数学的な式に準じる"
      ],
      "execution_count": 13,
      "outputs": []
    },
    {
      "cell_type": "code",
      "metadata": {
        "id": "gupUO1Rwvz6H"
      },
      "source": [
        ""
      ],
      "execution_count": 13,
      "outputs": []
    },
    {
      "cell_type": "code",
      "metadata": {
        "id": "jD9VG82DjdQ-",
        "colab": {
          "base_uri": "https://localhost:8080/"
        },
        "outputId": "fbebfca0-1d9f-484f-a5db-48baa00556c5"
      },
      "source": [
        "(20 + 20j) * (11 + 17j)"
      ],
      "execution_count": 14,
      "outputs": [
        {
          "output_type": "execute_result",
          "data": {
            "text/plain": [
              "(-120+560j)"
            ]
          },
          "metadata": {
            "tags": []
          },
          "execution_count": 14
        }
      ]
    },
    {
      "cell_type": "code",
      "metadata": {
        "id": "DptlLuTmjbVs",
        "colab": {
          "base_uri": "https://localhost:8080/"
        },
        "outputId": "d6c557b6-9aad-4d1c-ade5-b735c066ef18"
      },
      "source": [
        "(20 + 20j) ** 2"
      ],
      "execution_count": 15,
      "outputs": [
        {
          "output_type": "execute_result",
          "data": {
            "text/plain": [
              "800j"
            ]
          },
          "metadata": {
            "tags": []
          },
          "execution_count": 15
        }
      ]
    },
    {
      "cell_type": "code",
      "metadata": {
        "id": "lCHw9WMQqX7N"
      },
      "source": [
        ""
      ],
      "execution_count": 15,
      "outputs": []
    },
    {
      "cell_type": "code",
      "metadata": {
        "id": "TkzRnUfhi-0w"
      },
      "source": [
        ""
      ],
      "execution_count": 15,
      "outputs": []
    },
    {
      "cell_type": "markdown",
      "metadata": {
        "id": "6lvPhxGsgasr"
      },
      "source": [
        "#### 割り算は　/（半角スラッシュ）"
      ]
    },
    {
      "cell_type": "code",
      "metadata": {
        "id": "NVbSYoUZgtvC",
        "colab": {
          "base_uri": "https://localhost:8080/"
        },
        "outputId": "c48c20f6-0104-4278-aaa1-7c59c2b6faa2"
      },
      "source": [
        "2020 / 2"
      ],
      "execution_count": 16,
      "outputs": [
        {
          "output_type": "execute_result",
          "data": {
            "text/plain": [
              "1010.0"
            ]
          },
          "metadata": {
            "tags": []
          },
          "execution_count": 16
        }
      ]
    },
    {
      "cell_type": "code",
      "metadata": {
        "id": "Zg8kATX-qxnR"
      },
      "source": [
        "# 整数同士の割り算かつ割り切れる計算にもかかわらず、結果は小数点以下まで表示される"
      ],
      "execution_count": 17,
      "outputs": []
    },
    {
      "cell_type": "code",
      "metadata": {
        "id": "hC1aYcrNv4Eu"
      },
      "source": [
        ""
      ],
      "execution_count": 17,
      "outputs": []
    },
    {
      "cell_type": "code",
      "metadata": {
        "id": "hcAs1IfYi_oi"
      },
      "source": [
        ""
      ],
      "execution_count": 17,
      "outputs": []
    },
    {
      "cell_type": "code",
      "metadata": {
        "id": "yPjYIAgRlPWJ",
        "colab": {
          "base_uri": "https://localhost:8080/"
        },
        "outputId": "833fc17b-f39d-4954-bc56-f4aeebfd2508"
      },
      "source": [
        "2020 / 11"
      ],
      "execution_count": 18,
      "outputs": [
        {
          "output_type": "execute_result",
          "data": {
            "text/plain": [
              "183.63636363636363"
            ]
          },
          "metadata": {
            "tags": []
          },
          "execution_count": 18
        }
      ]
    },
    {
      "cell_type": "code",
      "metadata": {
        "id": "ATGDwJk_rKFo"
      },
      "source": [
        "# 機械はビット（０か１か）で計算（演算）しているので、分数は苦手"
      ],
      "execution_count": 19,
      "outputs": []
    },
    {
      "cell_type": "code",
      "metadata": {
        "id": "NOThL1XEjAJi"
      },
      "source": [
        ""
      ],
      "execution_count": 19,
      "outputs": []
    },
    {
      "cell_type": "code",
      "metadata": {
        "id": "I2UUNRIdlZsU"
      },
      "source": [
        ""
      ],
      "execution_count": 19,
      "outputs": []
    },
    {
      "cell_type": "markdown",
      "metadata": {
        "id": "Ff9fOMOcb0zJ"
      },
      "source": [
        "#### 割り算の商は　//"
      ]
    },
    {
      "cell_type": "code",
      "metadata": {
        "id": "fQS8Oiffb1-N",
        "colab": {
          "base_uri": "https://localhost:8080/"
        },
        "outputId": "af438553-7e05-4a65-e1a9-6286f10cc4ce"
      },
      "source": [
        "2020 // 11"
      ],
      "execution_count": 20,
      "outputs": [
        {
          "output_type": "execute_result",
          "data": {
            "text/plain": [
              "183"
            ]
          },
          "metadata": {
            "tags": []
          },
          "execution_count": 20
        }
      ]
    },
    {
      "cell_type": "code",
      "metadata": {
        "id": "ziAPsBjwb1hN",
        "colab": {
          "base_uri": "https://localhost:8080/"
        },
        "outputId": "4f088cd9-d0ac-403f-9106-9b22d73a7aac"
      },
      "source": [
        "2020 // 2"
      ],
      "execution_count": 21,
      "outputs": [
        {
          "output_type": "execute_result",
          "data": {
            "text/plain": [
              "1010"
            ]
          },
          "metadata": {
            "tags": []
          },
          "execution_count": 21
        }
      ]
    },
    {
      "cell_type": "code",
      "metadata": {
        "id": "3B9oEmwNcZT6",
        "colab": {
          "base_uri": "https://localhost:8080/"
        },
        "outputId": "cc42532b-07d0-4e82-88ae-d007a9561da5"
      },
      "source": [
        "2020 // 17"
      ],
      "execution_count": 22,
      "outputs": [
        {
          "output_type": "execute_result",
          "data": {
            "text/plain": [
              "118"
            ]
          },
          "metadata": {
            "tags": []
          },
          "execution_count": 22
        }
      ]
    },
    {
      "cell_type": "code",
      "metadata": {
        "id": "EWTVLmWbjA2u",
        "colab": {
          "base_uri": "https://localhost:8080/"
        },
        "outputId": "169ca7af-0fc4-4be1-bac7-f18f981f6327"
      },
      "source": [
        "5 // 3"
      ],
      "execution_count": 27,
      "outputs": [
        {
          "output_type": "execute_result",
          "data": {
            "text/plain": [
              "1"
            ]
          },
          "metadata": {
            "tags": []
          },
          "execution_count": 27
        }
      ]
    },
    {
      "cell_type": "code",
      "metadata": {
        "id": "8mH21x7EV4OL",
        "colab": {
          "base_uri": "https://localhost:8080/"
        },
        "outputId": "f534a9d3-cc85-4b6a-9bbb-191940070de4"
      },
      "source": [
        "5 % 3"
      ],
      "execution_count": 28,
      "outputs": [
        {
          "output_type": "execute_result",
          "data": {
            "text/plain": [
              "2"
            ]
          },
          "metadata": {
            "tags": []
          },
          "execution_count": 28
        }
      ]
    },
    {
      "cell_type": "markdown",
      "metadata": {
        "id": "w5yYo5bWgwkQ"
      },
      "source": [
        "#### 割り算の余り（mod）は　%（半角パーセント記号）"
      ]
    },
    {
      "cell_type": "code",
      "metadata": {
        "id": "E8nEDhRwga93",
        "colab": {
          "base_uri": "https://localhost:8080/"
        },
        "outputId": "08719b0b-21cb-4f5a-9e88-88e744ec9b9c"
      },
      "source": [
        "2020 % 11"
      ],
      "execution_count": 23,
      "outputs": [
        {
          "output_type": "execute_result",
          "data": {
            "text/plain": [
              "7"
            ]
          },
          "metadata": {
            "tags": []
          },
          "execution_count": 23
        }
      ]
    },
    {
      "cell_type": "code",
      "metadata": {
        "id": "178y3cOvVbzQ",
        "colab": {
          "base_uri": "https://localhost:8080/"
        },
        "outputId": "d70e6c2f-01c6-4faa-fa7d-0d26005ca274"
      },
      "source": [
        "183 * 11"
      ],
      "execution_count": 24,
      "outputs": [
        {
          "output_type": "execute_result",
          "data": {
            "text/plain": [
              "2013"
            ]
          },
          "metadata": {
            "tags": []
          },
          "execution_count": 24
        }
      ]
    },
    {
      "cell_type": "code",
      "metadata": {
        "id": "tuM-7IALlDA_",
        "colab": {
          "base_uri": "https://localhost:8080/"
        },
        "outputId": "f050c9b1-bf81-49fc-b669-3f7657351f93"
      },
      "source": [
        "2020 % 17"
      ],
      "execution_count": 25,
      "outputs": [
        {
          "output_type": "execute_result",
          "data": {
            "text/plain": [
              "14"
            ]
          },
          "metadata": {
            "tags": []
          },
          "execution_count": 25
        }
      ]
    },
    {
      "cell_type": "code",
      "metadata": {
        "id": "ypjdOTlOlOuR"
      },
      "source": [
        ""
      ],
      "execution_count": 25,
      "outputs": []
    },
    {
      "cell_type": "code",
      "metadata": {
        "id": "l4xKRE6fjBtc"
      },
      "source": [
        ""
      ],
      "execution_count": 25,
      "outputs": []
    },
    {
      "cell_type": "markdown",
      "metadata": {
        "id": "Dk_O25rKwpGh"
      },
      "source": [
        "### 2. 代表的関数と文字列"
      ]
    },
    {
      "cell_type": "markdown",
      "metadata": {
        "id": "6Ga_0EYohsVe"
      },
      "source": [
        "#### print( )　　引数（ひきすう）をコンソール出力する"
      ]
    },
    {
      "cell_type": "code",
      "metadata": {
        "id": "viaPK7b8nwTb",
        "colab": {
          "base_uri": "https://localhost:8080/"
        },
        "outputId": "224cd4ea-a582-4ba1-ef67-47700595a7fb"
      },
      "source": [
        "11 + 17\n",
        "11 - 17"
      ],
      "execution_count": null,
      "outputs": [
        {
          "output_type": "execute_result",
          "data": {
            "text/plain": [
              "-6"
            ]
          },
          "metadata": {
            "tags": []
          },
          "execution_count": 27
        }
      ]
    },
    {
      "cell_type": "code",
      "metadata": {
        "id": "ICyJDKIoo7Nq",
        "colab": {
          "base_uri": "https://localhost:8080/"
        },
        "outputId": "8907f2c4-fbbf-47ed-cb61-cd9dfd7debe2"
      },
      "source": [
        "print(11 + 17)\n",
        "print(11 - 17)"
      ],
      "execution_count": null,
      "outputs": [
        {
          "output_type": "stream",
          "text": [
            "28\n",
            "-6\n"
          ],
          "name": "stdout"
        }
      ]
    },
    {
      "cell_type": "code",
      "metadata": {
        "id": "0t8I5D4XkTcW"
      },
      "source": [
        ""
      ],
      "execution_count": null,
      "outputs": []
    },
    {
      "cell_type": "code",
      "metadata": {
        "id": "DmVP-b9DkTOU"
      },
      "source": [
        ""
      ],
      "execution_count": null,
      "outputs": []
    },
    {
      "cell_type": "code",
      "metadata": {
        "id": "MIItBBJbl0kv",
        "colab": {
          "base_uri": "https://localhost:8080/",
          "height": 134
        },
        "outputId": "31554b14-979d-4a52-bbe7-ac4728ee7838"
      },
      "source": [
        "Hello world!"
      ],
      "execution_count": null,
      "outputs": [
        {
          "output_type": "error",
          "ename": "SyntaxError",
          "evalue": "ignored",
          "traceback": [
            "\u001b[0;36m  File \u001b[0;32m\"<ipython-input-29-47a013e660d4>\"\u001b[0;36m, line \u001b[0;32m1\u001b[0m\n\u001b[0;31m    Hello world!\u001b[0m\n\u001b[0m              ^\u001b[0m\n\u001b[0;31mSyntaxError\u001b[0m\u001b[0;31m:\u001b[0m invalid syntax\n"
          ]
        }
      ]
    },
    {
      "cell_type": "code",
      "metadata": {
        "id": "WoeQ2_Rwl0p8"
      },
      "source": [
        "\"Hello world!\""
      ],
      "execution_count": null,
      "outputs": []
    },
    {
      "cell_type": "code",
      "metadata": {
        "id": "kfNrfpgQmBHB"
      },
      "source": [
        "print(Hello world!)"
      ],
      "execution_count": null,
      "outputs": []
    },
    {
      "cell_type": "code",
      "metadata": {
        "id": "E6IkteL1mIfq"
      },
      "source": [
        "print(\"Hello world!\")"
      ],
      "execution_count": null,
      "outputs": []
    },
    {
      "cell_type": "code",
      "metadata": {
        "id": "NKnSqhp6kUc7"
      },
      "source": [
        ""
      ],
      "execution_count": null,
      "outputs": []
    },
    {
      "cell_type": "code",
      "metadata": {
        "id": "2k3nGfPEkUTU"
      },
      "source": [
        ""
      ],
      "execution_count": null,
      "outputs": []
    },
    {
      "cell_type": "code",
      "metadata": {
        "id": "4lZ7oG2Rwo-W"
      },
      "source": [
        "print(11 + 17)"
      ],
      "execution_count": null,
      "outputs": []
    },
    {
      "cell_type": "code",
      "metadata": {
        "id": "wh0TeW8pmQy7"
      },
      "source": [
        "print(\"11 + 17\")"
      ],
      "execution_count": null,
      "outputs": []
    },
    {
      "cell_type": "code",
      "metadata": {
        "id": "V3poUlEnmQwX"
      },
      "source": [
        ""
      ],
      "execution_count": null,
      "outputs": []
    },
    {
      "cell_type": "code",
      "metadata": {
        "id": "q8S3gCOqYwTz"
      },
      "source": [
        ""
      ],
      "execution_count": null,
      "outputs": []
    },
    {
      "cell_type": "markdown",
      "metadata": {
        "id": "1bpAitAqmy5z"
      },
      "source": [
        "#### type( )　　引数（ひきすう）のデータ型を返す"
      ]
    },
    {
      "cell_type": "code",
      "metadata": {
        "id": "DQQepYxamzOL"
      },
      "source": [
        "type(1117)"
      ],
      "execution_count": null,
      "outputs": []
    },
    {
      "cell_type": "code",
      "metadata": {
        "id": "MChnRPfnmzq3"
      },
      "source": [
        "type(\"1117\")"
      ],
      "execution_count": null,
      "outputs": []
    },
    {
      "cell_type": "code",
      "metadata": {
        "id": "7yGxqzvWmztS"
      },
      "source": [
        "type(11 + 17)"
      ],
      "execution_count": null,
      "outputs": []
    },
    {
      "cell_type": "code",
      "metadata": {
        "id": "AiNg8_S8mzv1"
      },
      "source": [
        "type(11 / 17)"
      ],
      "execution_count": null,
      "outputs": []
    },
    {
      "cell_type": "code",
      "metadata": {
        "id": "q5YXT11MnKNM"
      },
      "source": [
        "type(20 / 2)"
      ],
      "execution_count": null,
      "outputs": []
    },
    {
      "cell_type": "code",
      "metadata": {
        "id": "06-Uz9vpkVeg"
      },
      "source": [
        ""
      ],
      "execution_count": null,
      "outputs": []
    },
    {
      "cell_type": "code",
      "metadata": {
        "id": "XL_jIkJInEjr"
      },
      "source": [
        ""
      ],
      "execution_count": null,
      "outputs": []
    },
    {
      "cell_type": "markdown",
      "metadata": {
        "id": "4M4dEiEsgtk6"
      },
      "source": [
        "#### int( )　　引数（ひきすう）を整数のデータ型にして返す"
      ]
    },
    {
      "cell_type": "code",
      "metadata": {
        "id": "y703D73ozvXp"
      },
      "source": [
        "int(20 / 2)"
      ],
      "execution_count": null,
      "outputs": []
    },
    {
      "cell_type": "code",
      "metadata": {
        "id": "bTN7_0yDmQuS"
      },
      "source": [
        "type(int(20 / 2))"
      ],
      "execution_count": null,
      "outputs": []
    },
    {
      "cell_type": "markdown",
      "metadata": {
        "id": "wuK2B2ehzl5a"
      },
      "source": [
        "##### task : int( )がどういう処理をしているのか実験して理解する"
      ]
    },
    {
      "cell_type": "code",
      "metadata": {
        "id": "Nvu-Vifbz_Lt"
      },
      "source": [
        "# 四捨五入？  切り捨て？  切り上げ？"
      ],
      "execution_count": null,
      "outputs": []
    },
    {
      "cell_type": "code",
      "metadata": {
        "id": "J3hSpQVejpLq"
      },
      "source": [
        "int(12/5)"
      ],
      "execution_count": null,
      "outputs": []
    },
    {
      "cell_type": "code",
      "metadata": {
        "id": "VTZUxn6oz_RR"
      },
      "source": [
        ""
      ],
      "execution_count": null,
      "outputs": []
    },
    {
      "cell_type": "code",
      "metadata": {
        "id": "iNZb4F-xmuXJ"
      },
      "source": [
        ""
      ],
      "execution_count": null,
      "outputs": []
    },
    {
      "cell_type": "markdown",
      "metadata": {
        "id": "3BgFmOpHmu0Z"
      },
      "source": [
        "#### float( )　引数（ひきすう）を小数のデータ型（浮動小数点型）にして返す"
      ]
    },
    {
      "cell_type": "code",
      "metadata": {
        "id": "QlF3x2txzyUG"
      },
      "source": [
        "float(11 + 17)"
      ],
      "execution_count": null,
      "outputs": []
    },
    {
      "cell_type": "code",
      "metadata": {
        "id": "w7G0E66-z7UR"
      },
      "source": [
        "type(11 + 17)"
      ],
      "execution_count": null,
      "outputs": []
    },
    {
      "cell_type": "code",
      "metadata": {
        "id": "rXAPZ56ZlsmW"
      },
      "source": [
        "type(float(11 + 17))"
      ],
      "execution_count": null,
      "outputs": []
    },
    {
      "cell_type": "code",
      "metadata": {
        "id": "FaZMhGwulveL"
      },
      "source": [
        ""
      ],
      "execution_count": null,
      "outputs": []
    },
    {
      "cell_type": "code",
      "metadata": {
        "id": "fFxCNt16jq2N"
      },
      "source": [
        ""
      ],
      "execution_count": null,
      "outputs": []
    },
    {
      "cell_type": "markdown",
      "metadata": {
        "id": "3F34vasWnRqw"
      },
      "source": [
        "#### str( )　引数（ひきすう）を文字列のデータ型（文字列シーケンス）にして返す"
      ]
    },
    {
      "cell_type": "code",
      "metadata": {
        "id": "lshcPRsO0D2m"
      },
      "source": [
        "str(1)"
      ],
      "execution_count": null,
      "outputs": []
    },
    {
      "cell_type": "code",
      "metadata": {
        "id": "rbJx03jUlvZ3"
      },
      "source": [
        "str(\"1\")"
      ],
      "execution_count": null,
      "outputs": []
    },
    {
      "cell_type": "code",
      "metadata": {
        "id": "a8PNCdPq7Ye1"
      },
      "source": [
        "str(1 + 1)"
      ],
      "execution_count": null,
      "outputs": []
    },
    {
      "cell_type": "code",
      "metadata": {
        "id": "WTBgRWo07YSd"
      },
      "source": [
        "str(1) + str(1)"
      ],
      "execution_count": null,
      "outputs": []
    },
    {
      "cell_type": "code",
      "metadata": {
        "id": "SpY0kYZF7idV"
      },
      "source": [
        "str(\"1 + 1\")"
      ],
      "execution_count": null,
      "outputs": []
    },
    {
      "cell_type": "code",
      "metadata": {
        "id": "uC6_yFzf7n98"
      },
      "source": [
        "str(\"1\" + \"1\")"
      ],
      "execution_count": null,
      "outputs": []
    },
    {
      "cell_type": "code",
      "metadata": {
        "id": "UmUg9oWd7iS_"
      },
      "source": [
        ""
      ],
      "execution_count": null,
      "outputs": []
    },
    {
      "cell_type": "code",
      "metadata": {
        "id": "iB0cfGIIjrpo"
      },
      "source": [
        ""
      ],
      "execution_count": null,
      "outputs": []
    },
    {
      "cell_type": "code",
      "metadata": {
        "id": "LRjAjhGXluFo"
      },
      "source": [
        "str(float(1))"
      ],
      "execution_count": null,
      "outputs": []
    },
    {
      "cell_type": "code",
      "metadata": {
        "id": "omH2JvWq0XtR"
      },
      "source": [
        "type(str(1))"
      ],
      "execution_count": null,
      "outputs": []
    },
    {
      "cell_type": "code",
      "metadata": {
        "id": "f7Ltw9sw0KyC"
      },
      "source": [
        "type(\"1\")"
      ],
      "execution_count": null,
      "outputs": []
    },
    {
      "cell_type": "code",
      "metadata": {
        "id": "6EQLjyK00K06"
      },
      "source": [
        "type(str(float(1)))"
      ],
      "execution_count": null,
      "outputs": []
    },
    {
      "cell_type": "code",
      "metadata": {
        "id": "vbs5gZHD0aKO"
      },
      "source": [
        ""
      ],
      "execution_count": null,
      "outputs": []
    },
    {
      "cell_type": "code",
      "metadata": {
        "id": "U1xJeK3ujsbn"
      },
      "source": [
        ""
      ],
      "execution_count": null,
      "outputs": []
    },
    {
      "cell_type": "markdown",
      "metadata": {
        "id": "vhF1TSJ4wo34"
      },
      "source": [
        "### 3. 変数とコンテナ"
      ]
    },
    {
      "cell_type": "code",
      "metadata": {
        "id": "rVehlyfPwoyP",
        "colab": {
          "base_uri": "https://localhost:8080/"
        },
        "outputId": "bea24b7f-803e-4f14-b3da-81e1b786f9de"
      },
      "source": [
        "a = 1\n",
        "# 名前を自分で「a」と決めた（宣言した）変数（容れ物）に、「1」というint値を格納（代入）する\n",
        "\n",
        "\n",
        "b = 2\n",
        "# 名前を自分で「b」と決めた（宣言した）変数（容れ物）に、「2」というint値を格納（代入）する\n",
        "\n",
        "\n",
        "c = a + b\n",
        "# 名前を自分で「c」と決めた（宣言した）変数（容れ物）に、すでに宣言済みの変数「a」と変数「b」との演算「a + b」の結果を格納（代入）する\n",
        "\n",
        "\n",
        "print(c)\n",
        "#変数「c」に格納されているデータを表示させる"
      ],
      "execution_count": null,
      "outputs": [
        {
          "output_type": "stream",
          "text": [
            "3\n"
          ],
          "name": "stdout"
        }
      ]
    },
    {
      "cell_type": "code",
      "metadata": {
        "id": "SRom02m_pfp_",
        "colab": {
          "base_uri": "https://localhost:8080/"
        },
        "outputId": "d41ebda8-d56b-4543-deeb-8272e35ba52e"
      },
      "source": [
        "a = 3\n",
        "#1つ上のセルで宣言済みの変数「a」に、「3」というint値を格納（代入）する\n",
        "\n",
        "\n",
        "b = 4\n",
        "#1つ上のセルで宣言済みの変数「b」に、「4」というint値を格納（代入）する\n",
        "\n",
        "\n",
        "print(c)\n",
        "#1つ上のセルで宣言済みの変数「c」を表示すると、どうなるだろうか？　変数「c」は「a + b」の演算結果を格納（代入）してあった"
      ],
      "execution_count": null,
      "outputs": [
        {
          "output_type": "stream",
          "text": [
            "3\n"
          ],
          "name": "stdout"
        }
      ]
    },
    {
      "cell_type": "code",
      "metadata": {
        "id": "019FG2OEp7LI"
      },
      "source": [
        ""
      ],
      "execution_count": null,
      "outputs": []
    },
    {
      "cell_type": "code",
      "metadata": {
        "id": "BINSNoxG0_H0",
        "colab": {
          "base_uri": "https://localhost:8080/"
        },
        "outputId": "ac68afa8-cec9-4e1a-cd32-28ee6aa78bac"
      },
      "source": [
        "x = 1\n",
        "y = 2\n",
        "x = y\n",
        "print(\" x \\t:\", x, \"\\n y \\t:\", y)"
      ],
      "execution_count": null,
      "outputs": [
        {
          "output_type": "stream",
          "text": [
            " x \t: 2 \n",
            " y \t: 2\n"
          ],
          "name": "stdout"
        }
      ]
    },
    {
      "cell_type": "code",
      "metadata": {
        "id": "xMzPAqmr0_ME",
        "colab": {
          "base_uri": "https://localhost:8080/"
        },
        "outputId": "4c5c975b-00a9-4ba9-b837-000156a9cfda"
      },
      "source": [
        "x = 1\n",
        "y = 2\n",
        "y = x\n",
        "print(\" x \\t:\", x, \"\\n y \\t:\", y)"
      ],
      "execution_count": null,
      "outputs": [
        {
          "output_type": "stream",
          "text": [
            " x \t: 1 \n",
            " y \t: 1\n"
          ],
          "name": "stdout"
        }
      ]
    },
    {
      "cell_type": "code",
      "metadata": {
        "id": "FcChKAHq0_RA"
      },
      "source": [
        ""
      ],
      "execution_count": null,
      "outputs": []
    },
    {
      "cell_type": "code",
      "metadata": {
        "id": "WrvE7sB6o8A4",
        "colab": {
          "base_uri": "https://localhost:8080/"
        },
        "outputId": "dbac621f-d670-448c-ada3-ddefb68543e7"
      },
      "source": [
        "a, b, c, d = 1, 2, 3, 4\n",
        "print(a, b, c, d)"
      ],
      "execution_count": null,
      "outputs": [
        {
          "output_type": "stream",
          "text": [
            "1 2 3 4\n"
          ],
          "name": "stdout"
        }
      ]
    },
    {
      "cell_type": "code",
      "metadata": {
        "id": "Exou-S8cdQP2"
      },
      "source": [
        "# a = 1\n",
        "# b = 2\n",
        "# c = 3\n",
        "# d = 4\n",
        "# print(a, b, c ,d)\n",
        "#\n",
        "# と同じ意味になる"
      ],
      "execution_count": null,
      "outputs": []
    },
    {
      "cell_type": "code",
      "metadata": {
        "id": "ibEAZqzHkY9h"
      },
      "source": [
        ""
      ],
      "execution_count": null,
      "outputs": []
    },
    {
      "cell_type": "code",
      "metadata": {
        "id": "x4BU1SKOpAE9",
        "colab": {
          "base_uri": "https://localhost:8080/",
          "height": 185
        },
        "outputId": "0c75a6c0-fe71-4bd5-fd8d-8d346e641f06"
      },
      "source": [
        "w, x, y, z = 1, 2, 3, 4, 5\n",
        "print(w, x, y, z)"
      ],
      "execution_count": null,
      "outputs": [
        {
          "output_type": "error",
          "ename": "ValueError",
          "evalue": "ignored",
          "traceback": [
            "\u001b[0;31m---------------------------------------------------------------------------\u001b[0m",
            "\u001b[0;31mValueError\u001b[0m                                Traceback (most recent call last)",
            "\u001b[0;32m<ipython-input-42-dd38b8f0269f>\u001b[0m in \u001b[0;36m<module>\u001b[0;34m()\u001b[0m\n\u001b[0;32m----> 1\u001b[0;31m \u001b[0mw\u001b[0m\u001b[0;34m,\u001b[0m \u001b[0mx\u001b[0m\u001b[0;34m,\u001b[0m \u001b[0my\u001b[0m\u001b[0;34m,\u001b[0m \u001b[0mz\u001b[0m \u001b[0;34m=\u001b[0m \u001b[0;36m1\u001b[0m\u001b[0;34m,\u001b[0m \u001b[0;36m2\u001b[0m\u001b[0;34m,\u001b[0m \u001b[0;36m3\u001b[0m\u001b[0;34m,\u001b[0m \u001b[0;36m4\u001b[0m\u001b[0;34m,\u001b[0m \u001b[0;36m5\u001b[0m\u001b[0;34m\u001b[0m\u001b[0;34m\u001b[0m\u001b[0m\n\u001b[0m\u001b[1;32m      2\u001b[0m \u001b[0mprint\u001b[0m\u001b[0;34m(\u001b[0m\u001b[0mw\u001b[0m\u001b[0;34m,\u001b[0m \u001b[0mx\u001b[0m\u001b[0;34m,\u001b[0m \u001b[0my\u001b[0m\u001b[0;34m,\u001b[0m \u001b[0mz\u001b[0m\u001b[0;34m)\u001b[0m\u001b[0;34m\u001b[0m\u001b[0;34m\u001b[0m\u001b[0m\n",
            "\u001b[0;31mValueError\u001b[0m: too many values to unpack (expected 4)"
          ]
        }
      ]
    },
    {
      "cell_type": "code",
      "metadata": {
        "id": "ej6JxFtgo8Ka",
        "colab": {
          "base_uri": "https://localhost:8080/"
        },
        "outputId": "85690bcb-4cf2-4c5c-f446-8f9365f75437"
      },
      "source": [
        "a, b, c, d = b, c, d, a\n",
        "print(a, b, c, d)"
      ],
      "execution_count": null,
      "outputs": [
        {
          "output_type": "stream",
          "text": [
            "2 3 4 1\n"
          ],
          "name": "stdout"
        }
      ]
    },
    {
      "cell_type": "code",
      "metadata": {
        "id": "Yncj9WsDkaZD"
      },
      "source": [
        ""
      ],
      "execution_count": null,
      "outputs": []
    },
    {
      "cell_type": "code",
      "metadata": {
        "id": "jA-Y2NG-o8H6",
        "colab": {
          "base_uri": "https://localhost:8080/"
        },
        "outputId": "418974e7-9c0c-4dab-ef32-b1a6f49f53d0"
      },
      "source": [
        "a = 1, 2, 3, 4\n",
        "print(a)"
      ],
      "execution_count": null,
      "outputs": [
        {
          "output_type": "stream",
          "text": [
            "(1, 2, 3, 4)\n"
          ],
          "name": "stdout"
        }
      ]
    },
    {
      "cell_type": "code",
      "metadata": {
        "id": "NCT2GwSuo8Fw"
      },
      "source": [
        ""
      ],
      "execution_count": null,
      "outputs": []
    },
    {
      "cell_type": "markdown",
      "metadata": {
        "id": "13_K9wbben8T"
      },
      "source": [
        "#### list（リスト）\n",
        "[ $a_0, a_1, a_2, \\cdots , a_{n-1}$ ] "
      ]
    },
    {
      "cell_type": "code",
      "metadata": {
        "id": "AwSWgwjZek0V"
      },
      "source": [
        "a = [1,2,3,4,5,6,7,8,9,10]\n",
        "print(\"1番目（index値0） \\t:\", a[1])"
      ],
      "execution_count": null,
      "outputs": []
    },
    {
      "cell_type": "code",
      "metadata": {
        "id": "-s3XO8bEf603"
      },
      "source": [
        "print(\"10番目（index値10） \\t:\", a[10])"
      ],
      "execution_count": null,
      "outputs": []
    },
    {
      "cell_type": "code",
      "metadata": {
        "id": "exLuw1Tk-8lm"
      },
      "source": [
        "# 要素番号（index値）は0から始めるというプログラミング言語の原則により、1〜10の「10個ある要素」について、「10番目の要素」は存在しないので実行エラーになる"
      ],
      "execution_count": null,
      "outputs": []
    },
    {
      "cell_type": "code",
      "metadata": {
        "id": "ZcjG4bjakdC_"
      },
      "source": [
        ""
      ],
      "execution_count": null,
      "outputs": []
    },
    {
      "cell_type": "code",
      "metadata": {
        "id": "xtps5Fpzf6bT"
      },
      "source": [
        "a[0] = 0\n",
        "print(a)"
      ],
      "execution_count": null,
      "outputs": []
    },
    {
      "cell_type": "code",
      "metadata": {
        "id": "K01KbAb0_CRR"
      },
      "source": [
        "# 要素への上書き操作ができる"
      ],
      "execution_count": null,
      "outputs": []
    },
    {
      "cell_type": "code",
      "metadata": {
        "id": "uS-2QCoOkd2B"
      },
      "source": [
        ""
      ],
      "execution_count": null,
      "outputs": []
    },
    {
      "cell_type": "code",
      "metadata": {
        "id": "A9o0LKQT_Cvk"
      },
      "source": [
        "a + 11"
      ],
      "execution_count": null,
      "outputs": []
    },
    {
      "cell_type": "code",
      "metadata": {
        "id": "XKP2dU2o_vnH"
      },
      "source": [
        "# データ型が異なる者同士の演算は実行エラーになる（エラーとならずに、Python内で勝手に適切な判断をしてくれて実行できる場合もある）"
      ],
      "execution_count": null,
      "outputs": []
    },
    {
      "cell_type": "code",
      "metadata": {
        "id": "pIyCBadzkeQg"
      },
      "source": [
        ""
      ],
      "execution_count": null,
      "outputs": []
    },
    {
      "cell_type": "code",
      "metadata": {
        "id": "2m9sx5eG_Ctn"
      },
      "source": [
        "a + [11]"
      ],
      "execution_count": null,
      "outputs": []
    },
    {
      "cell_type": "code",
      "metadata": {
        "id": "e-p3wJ6C_Cra"
      },
      "source": [
        "# listが格納されている変数と、要素数１個のlistの演算（足し算）なのでこれはOK"
      ],
      "execution_count": null,
      "outputs": []
    },
    {
      "cell_type": "code",
      "metadata": {
        "id": "6cnYlDRckeq1"
      },
      "source": [
        ""
      ],
      "execution_count": null,
      "outputs": []
    },
    {
      "cell_type": "code",
      "metadata": {
        "id": "n4jwx0-I_CpX"
      },
      "source": [
        "a + [11,]"
      ],
      "execution_count": null,
      "outputs": []
    },
    {
      "cell_type": "code",
      "metadata": {
        "id": "g9dB398N_CnM"
      },
      "source": [
        "# このような記述でも、 a + [11] と同じ実行結果にはなる"
      ],
      "execution_count": null,
      "outputs": []
    },
    {
      "cell_type": "code",
      "metadata": {
        "id": "3wyySTSPkfoJ"
      },
      "source": [
        ""
      ],
      "execution_count": null,
      "outputs": []
    },
    {
      "cell_type": "code",
      "metadata": {
        "id": "ngM3pKaUek4m"
      },
      "source": [
        ""
      ],
      "execution_count": null,
      "outputs": []
    },
    {
      "cell_type": "markdown",
      "metadata": {
        "id": "sRjAss0mfHJ2"
      },
      "source": [
        "#### tuple（タプル） : 要素への操作に制限がある\n",
        "( $ a_0, a_1, a_2, \\cdots , a_{n-1} $ )"
      ]
    },
    {
      "cell_type": "code",
      "metadata": {
        "id": "RlXZoZb7ek7i",
        "colab": {
          "base_uri": "https://localhost:8080/"
        },
        "outputId": "1e08d981-80c5-4836-a734-516d6ea4f6e6"
      },
      "source": [
        "b = (1,2,3,4,5,6,7,8,9,10)\n",
        "print(\"1番目（index値0） \\t:\", b[1])"
      ],
      "execution_count": null,
      "outputs": [
        {
          "output_type": "stream",
          "text": [
            "1番目（index値0） \t: 2\n"
          ],
          "name": "stdout"
        }
      ]
    },
    {
      "cell_type": "code",
      "metadata": {
        "id": "m_xJFOxAf78O",
        "colab": {
          "base_uri": "https://localhost:8080/",
          "height": 168
        },
        "outputId": "575cefaa-9877-4b92-a4ab-7b8a2e695084"
      },
      "source": [
        "print(\"10番目（index値10） \\t:\", b[10])"
      ],
      "execution_count": null,
      "outputs": [
        {
          "output_type": "error",
          "ename": "IndexError",
          "evalue": "ignored",
          "traceback": [
            "\u001b[0;31m---------------------------------------------------------------------------\u001b[0m",
            "\u001b[0;31mIndexError\u001b[0m                                Traceback (most recent call last)",
            "\u001b[0;32m<ipython-input-50-a881b715babb>\u001b[0m in \u001b[0;36m<module>\u001b[0;34m()\u001b[0m\n\u001b[0;32m----> 1\u001b[0;31m \u001b[0mprint\u001b[0m\u001b[0;34m(\u001b[0m\u001b[0;34m\"10番目（index値10） \\t:\"\u001b[0m\u001b[0;34m,\u001b[0m \u001b[0mb\u001b[0m\u001b[0;34m[\u001b[0m\u001b[0;36m10\u001b[0m\u001b[0;34m]\u001b[0m\u001b[0;34m)\u001b[0m\u001b[0;34m\u001b[0m\u001b[0;34m\u001b[0m\u001b[0m\n\u001b[0m",
            "\u001b[0;31mIndexError\u001b[0m: tuple index out of range"
          ]
        }
      ]
    },
    {
      "cell_type": "code",
      "metadata": {
        "id": "1cg1U6H99A0o"
      },
      "source": [
        "# listと同様に、「10番目の要素」は存在しないので実行エラーになる"
      ],
      "execution_count": null,
      "outputs": []
    },
    {
      "cell_type": "code",
      "metadata": {
        "id": "NO9f-7qVkkL_"
      },
      "source": [
        ""
      ],
      "execution_count": null,
      "outputs": []
    },
    {
      "cell_type": "code",
      "metadata": {
        "id": "Ni1_cKuKf7z2"
      },
      "source": [
        "b[0] = 0\n",
        "print(b)"
      ],
      "execution_count": null,
      "outputs": []
    },
    {
      "cell_type": "code",
      "metadata": {
        "id": "HJYzG8Em8zmV"
      },
      "source": [
        "# 要素への上書き操作はできないようになっている"
      ],
      "execution_count": null,
      "outputs": []
    },
    {
      "cell_type": "code",
      "metadata": {
        "id": "v9v7yzkSkkvr"
      },
      "source": [
        ""
      ],
      "execution_count": null,
      "outputs": []
    },
    {
      "cell_type": "code",
      "metadata": {
        "id": "qOb2Z61v8qoR"
      },
      "source": [
        "b + 11"
      ],
      "execution_count": null,
      "outputs": []
    },
    {
      "cell_type": "code",
      "metadata": {
        "id": "fWHJWVug9zJL"
      },
      "source": [
        "# listと同様にtupleでもこの演算（足し算）は実行エラーになる"
      ],
      "execution_count": null,
      "outputs": []
    },
    {
      "cell_type": "code",
      "metadata": {
        "id": "KNLD2u9dklMo"
      },
      "source": [
        ""
      ],
      "execution_count": null,
      "outputs": []
    },
    {
      "cell_type": "code",
      "metadata": {
        "id": "2FYR1khE8qUD"
      },
      "source": [
        "b + (11)"
      ],
      "execution_count": null,
      "outputs": []
    },
    {
      "cell_type": "code",
      "metadata": {
        "id": "iRxlTfpi-U1p"
      },
      "source": [
        "# 数式的な( )とtupleであるための( )が区別できないので、(11) はtupleとはみなされず、listの時と異なり実行エラーになる"
      ],
      "execution_count": null,
      "outputs": []
    },
    {
      "cell_type": "code",
      "metadata": {
        "id": "2myYM8_Nklzv"
      },
      "source": [
        ""
      ],
      "execution_count": null,
      "outputs": []
    },
    {
      "cell_type": "code",
      "metadata": {
        "id": "KZb-QO4R8ZtD"
      },
      "source": [
        "b + (11,)"
      ],
      "execution_count": null,
      "outputs": []
    },
    {
      "cell_type": "code",
      "metadata": {
        "id": "cGjEHNqc-VNU"
      },
      "source": [
        "# (11,)　は要素が1つのtupleとみなされるので、tuple同士の演算（足し算）は実行できる"
      ],
      "execution_count": null,
      "outputs": []
    },
    {
      "cell_type": "code",
      "metadata": {
        "id": "aRMvVs85ek_d"
      },
      "source": [
        ""
      ],
      "execution_count": null,
      "outputs": []
    },
    {
      "cell_type": "code",
      "metadata": {
        "id": "WlwJCnRdkrUW"
      },
      "source": [
        ""
      ],
      "execution_count": null,
      "outputs": []
    },
    {
      "cell_type": "markdown",
      "metadata": {
        "id": "o2OzKBDCtAK-"
      },
      "source": [
        "### 4. list / tuple の操作あれこれ"
      ]
    },
    {
      "cell_type": "code",
      "metadata": {
        "id": "u1i2EFSU0_QB",
        "colab": {
          "base_uri": "https://localhost:8080/"
        },
        "outputId": "8fc131fd-6921-4b5a-e2cc-6cd7861cc0ef"
      },
      "source": [
        "print(a[1:4])"
      ],
      "execution_count": null,
      "outputs": [
        {
          "output_type": "stream",
          "text": [
            "(2, 3, 4)\n"
          ],
          "name": "stdout"
        }
      ]
    },
    {
      "cell_type": "code",
      "metadata": {
        "id": "LyrR0d6vkvA4"
      },
      "source": [
        ""
      ],
      "execution_count": null,
      "outputs": []
    },
    {
      "cell_type": "code",
      "metadata": {
        "id": "ZMNCU0EQtKOv",
        "colab": {
          "base_uri": "https://localhost:8080/"
        },
        "outputId": "6c3b3d43-b5c3-4ab7-bea9-28b051b82206"
      },
      "source": [
        "print(a[::2])"
      ],
      "execution_count": null,
      "outputs": [
        {
          "output_type": "stream",
          "text": [
            "(1, 3)\n"
          ],
          "name": "stdout"
        }
      ]
    },
    {
      "cell_type": "code",
      "metadata": {
        "id": "aHh7dgpxkuhK"
      },
      "source": [
        ""
      ],
      "execution_count": null,
      "outputs": []
    },
    {
      "cell_type": "code",
      "metadata": {
        "id": "wSGpfHHgtKVY",
        "colab": {
          "base_uri": "https://localhost:8080/"
        },
        "outputId": "221aaab6-83a6-45ba-9889-210666e22318"
      },
      "source": [
        "print(a[0:7:3])"
      ],
      "execution_count": null,
      "outputs": [
        {
          "output_type": "stream",
          "text": [
            "(1, 4)\n"
          ],
          "name": "stdout"
        }
      ]
    },
    {
      "cell_type": "code",
      "metadata": {
        "id": "ENQM1C1bktZ3"
      },
      "source": [
        ""
      ],
      "execution_count": null,
      "outputs": []
    },
    {
      "cell_type": "code",
      "metadata": {
        "id": "WBvS9Y6GtKTD",
        "colab": {
          "base_uri": "https://localhost:8080/"
        },
        "outputId": "b7c8dda4-368b-45a5-e4ac-4dc64a3d3f63"
      },
      "source": [
        "print(a.index(3))"
      ],
      "execution_count": null,
      "outputs": [
        {
          "output_type": "stream",
          "text": [
            "2\n"
          ],
          "name": "stdout"
        }
      ]
    },
    {
      "cell_type": "code",
      "metadata": {
        "id": "i5AJe8bkkvql"
      },
      "source": [
        ""
      ],
      "execution_count": null,
      "outputs": []
    },
    {
      "cell_type": "code",
      "metadata": {
        "id": "SWDv25nRtvOL",
        "colab": {
          "base_uri": "https://localhost:8080/",
          "height": 185
        },
        "outputId": "65978499-0448-4278-9fda-90e423ba8f34"
      },
      "source": [
        "b = a.copy()\n",
        "print(b)"
      ],
      "execution_count": null,
      "outputs": [
        {
          "output_type": "error",
          "ename": "AttributeError",
          "evalue": "ignored",
          "traceback": [
            "\u001b[0;31m---------------------------------------------------------------------------\u001b[0m",
            "\u001b[0;31mAttributeError\u001b[0m                            Traceback (most recent call last)",
            "\u001b[0;32m<ipython-input-45-9f94c2a85c1a>\u001b[0m in \u001b[0;36m<module>\u001b[0;34m()\u001b[0m\n\u001b[0;32m----> 1\u001b[0;31m \u001b[0mb\u001b[0m \u001b[0;34m=\u001b[0m \u001b[0ma\u001b[0m\u001b[0;34m.\u001b[0m\u001b[0mcopy\u001b[0m\u001b[0;34m(\u001b[0m\u001b[0;34m)\u001b[0m\u001b[0;34m\u001b[0m\u001b[0;34m\u001b[0m\u001b[0m\n\u001b[0m\u001b[1;32m      2\u001b[0m \u001b[0mprint\u001b[0m\u001b[0;34m(\u001b[0m\u001b[0mb\u001b[0m\u001b[0;34m)\u001b[0m\u001b[0;34m\u001b[0m\u001b[0;34m\u001b[0m\u001b[0m\n",
            "\u001b[0;31mAttributeError\u001b[0m: 'tuple' object has no attribute 'copy'"
          ]
        }
      ]
    },
    {
      "cell_type": "code",
      "metadata": {
        "id": "buZJyL0Akwoi"
      },
      "source": [
        ""
      ],
      "execution_count": null,
      "outputs": []
    },
    {
      "cell_type": "code",
      "metadata": {
        "id": "uEA-fjo5tvS1",
        "colab": {
          "base_uri": "https://localhost:8080/",
          "height": 185
        },
        "outputId": "df664f98-2f95-4991-bf79-d14ba2eb2b3f"
      },
      "source": [
        "b.append(20)\n",
        "print(b)"
      ],
      "execution_count": null,
      "outputs": [
        {
          "output_type": "error",
          "ename": "AttributeError",
          "evalue": "ignored",
          "traceback": [
            "\u001b[0;31m---------------------------------------------------------------------------\u001b[0m",
            "\u001b[0;31mAttributeError\u001b[0m                            Traceback (most recent call last)",
            "\u001b[0;32m<ipython-input-46-1bca0c7e7cdc>\u001b[0m in \u001b[0;36m<module>\u001b[0;34m()\u001b[0m\n\u001b[0;32m----> 1\u001b[0;31m \u001b[0mb\u001b[0m\u001b[0;34m.\u001b[0m\u001b[0mappend\u001b[0m\u001b[0;34m(\u001b[0m\u001b[0;36m20\u001b[0m\u001b[0;34m)\u001b[0m\u001b[0;34m\u001b[0m\u001b[0;34m\u001b[0m\u001b[0m\n\u001b[0m\u001b[1;32m      2\u001b[0m \u001b[0mprint\u001b[0m\u001b[0;34m(\u001b[0m\u001b[0mb\u001b[0m\u001b[0;34m)\u001b[0m\u001b[0;34m\u001b[0m\u001b[0;34m\u001b[0m\u001b[0m\n",
            "\u001b[0;31mAttributeError\u001b[0m: 'int' object has no attribute 'append'"
          ]
        }
      ]
    },
    {
      "cell_type": "code",
      "metadata": {
        "id": "MwWO6g_LkxCw"
      },
      "source": [
        ""
      ],
      "execution_count": null,
      "outputs": []
    },
    {
      "cell_type": "code",
      "metadata": {
        "id": "BrF0lr7OtvRS",
        "colab": {
          "base_uri": "https://localhost:8080/"
        },
        "outputId": "daa3c11a-9854-4277-9c03-de29f5123404"
      },
      "source": [
        "c = 1,2,(3,4),5,6\n",
        "print(c[0])\n",
        "print(c[-3])\n",
        "print(type(c))"
      ],
      "execution_count": null,
      "outputs": [
        {
          "output_type": "stream",
          "text": [
            "1\n",
            "(3, 4)\n",
            "<class 'tuple'>\n"
          ],
          "name": "stdout"
        }
      ]
    },
    {
      "cell_type": "code",
      "metadata": {
        "id": "jT6t8Lskkxau"
      },
      "source": [
        ""
      ],
      "execution_count": null,
      "outputs": []
    },
    {
      "cell_type": "code",
      "metadata": {
        "id": "YxvSgsentKR9"
      },
      "source": [
        "c.append(8)\n",
        "print(c)"
      ],
      "execution_count": null,
      "outputs": []
    },
    {
      "cell_type": "code",
      "metadata": {
        "id": "60XkeTbbkx_c"
      },
      "source": [
        ""
      ],
      "execution_count": null,
      "outputs": []
    },
    {
      "cell_type": "code",
      "metadata": {
        "id": "OMi7zPTlvydp"
      },
      "source": [
        "d = c + (7, 8)\n",
        "print(d)"
      ],
      "execution_count": null,
      "outputs": []
    },
    {
      "cell_type": "code",
      "metadata": {
        "id": "wOai_rCawNCO"
      },
      "source": [
        ""
      ],
      "execution_count": null,
      "outputs": []
    },
    {
      "cell_type": "code",
      "metadata": {
        "id": "-FigRaPpwNAu"
      },
      "source": [
        ""
      ],
      "execution_count": null,
      "outputs": []
    },
    {
      "cell_type": "code",
      "metadata": {
        "id": "XhF3gAVHvyiE"
      },
      "source": [
        ""
      ],
      "execution_count": null,
      "outputs": []
    },
    {
      "cell_type": "code",
      "metadata": {
        "id": "3Qs31mJYwM96"
      },
      "source": [
        ""
      ],
      "execution_count": null,
      "outputs": []
    },
    {
      "cell_type": "code",
      "metadata": {
        "id": "9gXQVdB9vyna"
      },
      "source": [
        ""
      ],
      "execution_count": null,
      "outputs": []
    },
    {
      "cell_type": "code",
      "metadata": {
        "id": "FeMv5Rkhvylk"
      },
      "source": [
        ""
      ],
      "execution_count": null,
      "outputs": []
    },
    {
      "cell_type": "code",
      "metadata": {
        "id": "pCvTx8iCtKMo"
      },
      "source": [
        ""
      ],
      "execution_count": null,
      "outputs": []
    },
    {
      "cell_type": "code",
      "metadata": {
        "id": "0KhRO9RyNhU7"
      },
      "source": [
        ""
      ],
      "execution_count": null,
      "outputs": []
    },
    {
      "cell_type": "code",
      "metadata": {
        "id": "R3EuxUzXwonA"
      },
      "source": [
        ""
      ],
      "execution_count": null,
      "outputs": []
    },
    {
      "cell_type": "markdown",
      "metadata": {
        "id": "0k315Xtfwof4"
      },
      "source": [
        "### 5. 　関数を自作"
      ]
    },
    {
      "cell_type": "code",
      "metadata": {
        "id": "rAIvUUkwNhrS"
      },
      "source": [
        "'''\n",
        "def <関数名>(<引数1>, <引数2>, ... <引数n>):\n",
        "  （処理の記述）\n",
        "  ...\n",
        "  （処理の記述）\n",
        "  return <戻り値/返り値>\n",
        "'''"
      ],
      "execution_count": null,
      "outputs": []
    },
    {
      "cell_type": "code",
      "metadata": {
        "id": "CvFEX8JkBKT_",
        "colab": {
          "base_uri": "https://localhost:8080/"
        },
        "outputId": "371c8b48-67ba-4a1b-d5e3-a2467c8d9088"
      },
      "source": [
        "def add(x, y):\n",
        "  return x + y\n",
        "\n",
        "# ここの空白行はなくても動作しますが、Python のスタイルガイド (PEP8) でトップレベルに定義した関数定義及びクラス定義は二つの空白行で囲む\n",
        "# (Surround top-level function and class definitions with two blank lines.) ことが推奨されています。\n",
        "\n",
        "c = add(1, 3)\n",
        "print(c)"
      ],
      "execution_count": 30,
      "outputs": [
        {
          "output_type": "stream",
          "text": [
            "4\n"
          ],
          "name": "stdout"
        }
      ]
    },
    {
      "cell_type": "code",
      "metadata": {
        "id": "egL7sdBeDRnW"
      },
      "source": [
        "# 引数を変数として、関数の中だけで使用できる\n",
        "# 引数には、関数を使う（呼び出した）際に渡すデータが格納されて、記述された処理が実行されていく"
      ],
      "execution_count": null,
      "outputs": []
    },
    {
      "cell_type": "code",
      "metadata": {
        "id": "RIDSgKGykz1K"
      },
      "source": [
        ""
      ],
      "execution_count": null,
      "outputs": []
    },
    {
      "cell_type": "code",
      "metadata": {
        "id": "3V0wSp38C7Ec",
        "colab": {
          "base_uri": "https://localhost:8080/"
        },
        "outputId": "e4e396be-8377-4abf-a348-4056526c4a4f"
      },
      "source": [
        "def add2(w, z):\n",
        "  a = w + z\n",
        "  return a\n",
        "\n",
        "\n",
        "d = add2(1, 3)\n",
        "print(d)"
      ],
      "execution_count": 31,
      "outputs": [
        {
          "output_type": "stream",
          "text": [
            "4\n"
          ],
          "name": "stdout"
        }
      ]
    },
    {
      "cell_type": "code",
      "metadata": {
        "id": "6m0JZoxlBKnQ"
      },
      "source": [
        "# 関数の中で新たな変数を定義してよい"
      ],
      "execution_count": null,
      "outputs": []
    },
    {
      "cell_type": "code",
      "metadata": {
        "id": "-qXIZix7k0cf"
      },
      "source": [
        ""
      ],
      "execution_count": null,
      "outputs": []
    },
    {
      "cell_type": "code",
      "metadata": {
        "id": "iO1seWILBKqe",
        "colab": {
          "base_uri": "https://localhost:8080/",
          "height": 202
        },
        "outputId": "2a760209-acc6-4f67-e7ef-29ce097d134c"
      },
      "source": [
        "def add3(s, t):\n",
        "  ab = s + t\n",
        "  return ab\n",
        "\n",
        "\n",
        "e = add3(1, 3)\n",
        "print(ab)"
      ],
      "execution_count": 33,
      "outputs": [
        {
          "output_type": "error",
          "ename": "NameError",
          "evalue": "ignored",
          "traceback": [
            "\u001b[0;31m---------------------------------------------------------------------------\u001b[0m",
            "\u001b[0;31mNameError\u001b[0m                                 Traceback (most recent call last)",
            "\u001b[0;32m<ipython-input-33-22a16f8e807c>\u001b[0m in \u001b[0;36m<module>\u001b[0;34m()\u001b[0m\n\u001b[1;32m      5\u001b[0m \u001b[0;34m\u001b[0m\u001b[0m\n\u001b[1;32m      6\u001b[0m \u001b[0me\u001b[0m \u001b[0;34m=\u001b[0m \u001b[0madd3\u001b[0m\u001b[0;34m(\u001b[0m\u001b[0;36m1\u001b[0m\u001b[0;34m,\u001b[0m \u001b[0;36m3\u001b[0m\u001b[0;34m)\u001b[0m\u001b[0;34m\u001b[0m\u001b[0;34m\u001b[0m\u001b[0m\n\u001b[0;32m----> 7\u001b[0;31m \u001b[0mprint\u001b[0m\u001b[0;34m(\u001b[0m\u001b[0mab\u001b[0m\u001b[0;34m)\u001b[0m\u001b[0;34m\u001b[0m\u001b[0;34m\u001b[0m\u001b[0m\n\u001b[0m",
            "\u001b[0;31mNameError\u001b[0m: name 'ab' is not defined"
          ]
        }
      ]
    },
    {
      "cell_type": "code",
      "metadata": {
        "id": "KBxQvCp3BKRR"
      },
      "source": [
        "# 変数にはスコープ（定義/利用の有効範囲）がある"
      ],
      "execution_count": null,
      "outputs": []
    },
    {
      "cell_type": "code",
      "metadata": {
        "id": "krRvcUvlk1Ks"
      },
      "source": [
        ""
      ],
      "execution_count": null,
      "outputs": []
    },
    {
      "cell_type": "code",
      "metadata": {
        "id": "wc5b19kUNfzT",
        "colab": {
          "base_uri": "https://localhost:8080/"
        },
        "outputId": "f1911c0a-17d6-4438-e809-24e40c8fc33f"
      },
      "source": [
        "def add3(w = 1, z = 2):\n",
        "  a = w + z\n",
        "  return a\n",
        "\n",
        "\n",
        "f = add3(1, 3)\n",
        "print(\"f \\t: \", f)\n",
        "\n",
        "g = add3()\n",
        "print(\"g \\t: \", g)"
      ],
      "execution_count": 34,
      "outputs": [
        {
          "output_type": "stream",
          "text": [
            "f \t:  4\n",
            "g \t:  3\n"
          ],
          "name": "stdout"
        }
      ]
    },
    {
      "cell_type": "code",
      "metadata": {
        "id": "PXoqhc85Na5T"
      },
      "source": [
        "# 引数にはデフォルト値を設定することができ、関数を呼び出す際に引数を省略できるようになる"
      ],
      "execution_count": null,
      "outputs": []
    },
    {
      "cell_type": "code",
      "metadata": {
        "id": "1WyO7r7ENaNa"
      },
      "source": [
        ""
      ],
      "execution_count": null,
      "outputs": []
    },
    {
      "cell_type": "code",
      "metadata": {
        "id": "Nd2RaEjRBKOU"
      },
      "source": [
        ""
      ],
      "execution_count": null,
      "outputs": []
    },
    {
      "cell_type": "code",
      "metadata": {
        "id": "m8EKLBT9woan"
      },
      "source": [
        ""
      ],
      "execution_count": null,
      "outputs": []
    },
    {
      "cell_type": "markdown",
      "metadata": {
        "id": "Lg6WdZwYwoTS"
      },
      "source": [
        "### 6. 実行後のプログラムに値を入力する"
      ]
    },
    {
      "cell_type": "code",
      "metadata": {
        "id": "cKXKhqXgwoOG",
        "colab": {
          "base_uri": "https://localhost:8080/"
        },
        "outputId": "5b44fd36-1f50-434e-8521-8272af6d1143"
      },
      "source": [
        "print(\"好きな自然数を入力してね\")\n",
        "n = input(\">>\")\n",
        "print(int(n)**2)"
      ],
      "execution_count": 26,
      "outputs": [
        {
          "output_type": "stream",
          "text": [
            "好きな自然数を入力してね\n",
            ">>5\n",
            "25\n"
          ],
          "name": "stdout"
        }
      ]
    },
    {
      "cell_type": "code",
      "metadata": {
        "id": "85VEvVhX1HON"
      },
      "source": [
        ""
      ],
      "execution_count": null,
      "outputs": []
    },
    {
      "cell_type": "code",
      "metadata": {
        "id": "9QHqBuPd1HSr"
      },
      "source": [
        ""
      ],
      "execution_count": null,
      "outputs": []
    },
    {
      "cell_type": "code",
      "metadata": {
        "id": "_e4QosEB1HWS"
      },
      "source": [
        ""
      ],
      "execution_count": null,
      "outputs": []
    },
    {
      "cell_type": "markdown",
      "metadata": {
        "id": "pLaRQokawoHf"
      },
      "source": [
        "### 7. 条件判断と演算子"
      ]
    },
    {
      "cell_type": "code",
      "metadata": {
        "id": "ylFetmjDOehZ"
      },
      "source": [
        "x = 1\n",
        "\n",
        "if x == 1:\n",
        "  print(\"x = 1\")"
      ],
      "execution_count": null,
      "outputs": []
    },
    {
      "cell_type": "code",
      "metadata": {
        "id": "HnX9xmf3Oe7d"
      },
      "source": [
        "x = 0\n",
        "\n",
        "if x == 1:\n",
        "  print(\"x = 1\")"
      ],
      "execution_count": null,
      "outputs": []
    },
    {
      "cell_type": "code",
      "metadata": {
        "id": "H0e2avh3S8Lp"
      },
      "source": [
        "x = 1\n",
        "\n",
        "if x != 1:\n",
        "  print(\"x ≠ 1\")"
      ],
      "execution_count": null,
      "outputs": []
    },
    {
      "cell_type": "code",
      "metadata": {
        "id": "HxNYDPeES8Rc"
      },
      "source": [
        "x = 0\n",
        "\n",
        "if x != 1:\n",
        "  print(\"x ≠ 1\")"
      ],
      "execution_count": null,
      "outputs": []
    },
    {
      "cell_type": "markdown",
      "metadata": {
        "id": "D3fbF7tzPamc"
      },
      "source": [
        "| 記号 | 真になる | 偽になる |\n",
        "| :--- | :--- | :--- |\n",
        "| == <br> is | 2つのデータが<br>等しい| 2つのデータが<br>等しくない |\n",
        "| != <br> is not | 2つのデータが<br>等しくない | 2つのデータが<br>等しい |"
      ]
    },
    {
      "cell_type": "code",
      "metadata": {
        "id": "4rRyJD55Xte0"
      },
      "source": [
        ""
      ],
      "execution_count": null,
      "outputs": []
    },
    {
      "cell_type": "code",
      "metadata": {
        "id": "O1OCnLJzXtz9"
      },
      "source": [
        ""
      ],
      "execution_count": null,
      "outputs": []
    },
    {
      "cell_type": "code",
      "metadata": {
        "id": "ViFAdPADXtRh"
      },
      "source": [
        ""
      ],
      "execution_count": null,
      "outputs": []
    },
    {
      "cell_type": "code",
      "metadata": {
        "id": "xHoQP3FcOe5D"
      },
      "source": [
        "x = 0\n",
        "\n",
        "if x < 1:\n",
        "  print(\"x < 1\")"
      ],
      "execution_count": null,
      "outputs": []
    },
    {
      "cell_type": "code",
      "metadata": {
        "id": "Qa3W_FDlO70P"
      },
      "source": [
        "x = 0\n",
        "\n",
        "if x > 1:\n",
        "  print(\"x > 1\")"
      ],
      "execution_count": null,
      "outputs": []
    },
    {
      "cell_type": "code",
      "metadata": {
        "id": "zzFSyQnoOe2C"
      },
      "source": [
        "x = 0\n",
        "\n",
        "if x <= 1:\n",
        "  print(\"x ≦ 1\")"
      ],
      "execution_count": null,
      "outputs": []
    },
    {
      "cell_type": "code",
      "metadata": {
        "id": "ARPa5nTtS04h"
      },
      "source": [
        "x = 0\n",
        "\n",
        "if x >= 1:\n",
        "  print(\"x ≧ 1\")"
      ],
      "execution_count": null,
      "outputs": []
    },
    {
      "cell_type": "markdown",
      "metadata": {
        "id": "wJdLyVFPR5yN"
      },
      "source": [
        "| 記号 | 真になる | 偽になる |\n",
        "| :--- | :--- | :--- |\n",
        "| < | 左の値が<br>右より<br>小さい | 左の値が<br>右より<br>小さくない |\n",
        "| > | 左の値が<br>右より<br>大きい | 左の値が<br>右より<br>大きくない |\n",
        "| <= | 左の値が<br>右以下 | 左の値が<br>右以下ではない |\n",
        "| >= | 左の値が<br>右以上 | 左の値が<br>右以上ではない |\n"
      ]
    },
    {
      "cell_type": "code",
      "metadata": {
        "id": "fbbVczKHk4xi"
      },
      "source": [
        ""
      ],
      "execution_count": null,
      "outputs": []
    },
    {
      "cell_type": "code",
      "metadata": {
        "id": "qoGPaiVEk46R"
      },
      "source": [
        ""
      ],
      "execution_count": null,
      "outputs": []
    },
    {
      "cell_type": "code",
      "metadata": {
        "id": "E6rk-zO6k4od"
      },
      "source": [
        ""
      ],
      "execution_count": null,
      "outputs": []
    },
    {
      "cell_type": "code",
      "metadata": {
        "id": "Ur81ND12UZX3"
      },
      "source": [
        "x = 0\n",
        "y = 1\n",
        "\n",
        "if x == 1 & y == 1:\n",
        "  print(\"x = y = 1\")"
      ],
      "execution_count": null,
      "outputs": []
    },
    {
      "cell_type": "code",
      "metadata": {
        "id": "zwHhxxExUZVL"
      },
      "source": [
        "x = 0\n",
        "y = 1\n",
        "\n",
        "if x == 1 | y == 1:\n",
        "  print(\"x = 1 or y = 1\")"
      ],
      "execution_count": null,
      "outputs": []
    },
    {
      "cell_type": "markdown",
      "metadata": {
        "id": "H0e1Kh7dUc8G"
      },
      "source": [
        "| 記号 | 意味 | 真になる | 偽になる |\n",
        "| :--- | :--- | :--- | :--- |\n",
        "| &<br>and | かつ<br>(AND) | 左右の条件が<br>両方真 | 左右の条件が<br>どちらか片方でも偽 |\n",
        "| $|$<br>or | または<br>(OR) | 左右の条件が<br>どちらか片方でも真 | 左右の条件が<br>両方偽 |"
      ]
    },
    {
      "cell_type": "code",
      "metadata": {
        "id": "6oPeeDEfUZQG"
      },
      "source": [
        ""
      ],
      "execution_count": null,
      "outputs": []
    },
    {
      "cell_type": "code",
      "metadata": {
        "id": "tZKidGvaUZNJ"
      },
      "source": [
        ""
      ],
      "execution_count": null,
      "outputs": []
    },
    {
      "cell_type": "code",
      "metadata": {
        "id": "BZBhVt_3UZI-"
      },
      "source": [
        ""
      ],
      "execution_count": null,
      "outputs": []
    },
    {
      "cell_type": "markdown",
      "metadata": {
        "id": "AmdqyOvyXzYv"
      },
      "source": [
        "| 記号 | 真になる | 偽になる |\n",
        "| :--- | :--- | :--- |\n",
        "| in | 左のデータが<br>右に含まれる | 左のデータが<br>右に含まれない |\n",
        "| not in | 左のデータが<br>右に含まれない | 左のデータが<br>右に含まれる |"
      ]
    },
    {
      "cell_type": "code",
      "metadata": {
        "id": "qI3uscyeYSEV"
      },
      "source": [
        ""
      ],
      "execution_count": null,
      "outputs": []
    },
    {
      "cell_type": "code",
      "metadata": {
        "id": "kMjuZrAnYSMC"
      },
      "source": [
        ""
      ],
      "execution_count": null,
      "outputs": []
    },
    {
      "cell_type": "code",
      "metadata": {
        "id": "sX2zfZ7G1QLS"
      },
      "source": [
        ""
      ],
      "execution_count": null,
      "outputs": []
    },
    {
      "cell_type": "code",
      "metadata": {
        "id": "CpU7W2xkNiWR"
      },
      "source": [
        "x = 0\n",
        "\n",
        "if x == 1:\n",
        "  print(\"x = 1\")\n",
        "else:\n",
        "  print(\"x ≠ 1\")"
      ],
      "execution_count": null,
      "outputs": []
    },
    {
      "cell_type": "code",
      "metadata": {
        "id": "2115ebm01QOo"
      },
      "source": [
        "x = 0\n",
        "\n",
        "if x == 1:\n",
        "  print(\"x = 1\")\n",
        "else:\n",
        "  if x == 0:\n",
        "    print(\"x = 0\")\n",
        "  else:\n",
        "    print(\"x ≠ 0, x ≠ 1\")"
      ],
      "execution_count": null,
      "outputs": []
    },
    {
      "cell_type": "code",
      "metadata": {
        "id": "o0JB5Ebe1QWS"
      },
      "source": [
        "x = 2\n",
        "\n",
        "if x == 1:\n",
        "  print(\"x = 1\")\n",
        "elif x == 0:\n",
        "  print(\"x = 0\")\n",
        "else:\n",
        "  print(\"x ≠ 0, x ≠ 1\")"
      ],
      "execution_count": null,
      "outputs": []
    },
    {
      "cell_type": "code",
      "metadata": {
        "id": "mgykWUwr1QY3"
      },
      "source": [
        ""
      ],
      "execution_count": null,
      "outputs": []
    },
    {
      "cell_type": "code",
      "metadata": {
        "id": "jeKeEyzxbW-5"
      },
      "source": [
        ""
      ],
      "execution_count": null,
      "outputs": []
    },
    {
      "cell_type": "code",
      "metadata": {
        "id": "dAuqSet7bW7U"
      },
      "source": [
        ""
      ],
      "execution_count": null,
      "outputs": []
    },
    {
      "cell_type": "code",
      "metadata": {
        "id": "YY5qBZn4wn--"
      },
      "source": [
        ""
      ],
      "execution_count": null,
      "outputs": []
    },
    {
      "cell_type": "markdown",
      "metadata": {
        "id": "gKiPk-Apwn4I"
      },
      "source": [
        "### 8. 繰り返し処理"
      ]
    },
    {
      "cell_type": "code",
      "metadata": {
        "id": "pw-IhAuoNixo"
      },
      "source": [
        "for i in range(10):\n",
        "  print(i)"
      ],
      "execution_count": null,
      "outputs": []
    },
    {
      "cell_type": "code",
      "metadata": {
        "id": "4zVI3_Lgbjso"
      },
      "source": [
        "# range(stop) のように１つ引数を指定した場合\n",
        "# 0 ≦ i < stop の連番が生成される"
      ],
      "execution_count": null,
      "outputs": []
    },
    {
      "cell_type": "code",
      "metadata": {
        "id": "7i8GnvLabjvz"
      },
      "source": [
        ""
      ],
      "execution_count": null,
      "outputs": []
    },
    {
      "cell_type": "code",
      "metadata": {
        "id": "KHglePYebkGC"
      },
      "source": [
        ""
      ],
      "execution_count": null,
      "outputs": []
    },
    {
      "cell_type": "code",
      "metadata": {
        "id": "0r1ijF3Ak9nI"
      },
      "source": [
        ""
      ],
      "execution_count": null,
      "outputs": []
    },
    {
      "cell_type": "code",
      "metadata": {
        "id": "7BRH8lu8bkJs"
      },
      "source": [
        "# range(start, stop) のように２つ引数を指定した場合\n",
        "# start ≦ i < stop の連番が生成される"
      ],
      "execution_count": null,
      "outputs": []
    },
    {
      "cell_type": "code",
      "metadata": {
        "id": "veQd2x3fdC8V"
      },
      "source": [
        ""
      ],
      "execution_count": null,
      "outputs": []
    },
    {
      "cell_type": "code",
      "metadata": {
        "id": "No11-P5TduAb"
      },
      "source": [
        ""
      ],
      "execution_count": null,
      "outputs": []
    },
    {
      "cell_type": "code",
      "metadata": {
        "id": "z2UueNkak9W2"
      },
      "source": [
        ""
      ],
      "execution_count": null,
      "outputs": []
    },
    {
      "cell_type": "code",
      "metadata": {
        "id": "aXxJQqLodC_3"
      },
      "source": [
        "## range(start, stop, step) のように３つ引数を指定した場合\n",
        "# start ≦ i < stop で step ずつ増加する連番が生成される\n",
        "# 引数stepに負の値を指定すると減少していく"
      ],
      "execution_count": null,
      "outputs": []
    },
    {
      "cell_type": "code",
      "metadata": {
        "id": "9H8mSW1rdC6U"
      },
      "source": [
        ""
      ],
      "execution_count": null,
      "outputs": []
    },
    {
      "cell_type": "code",
      "metadata": {
        "id": "Qbo8vJStdtEu"
      },
      "source": [
        ""
      ],
      "execution_count": null,
      "outputs": []
    },
    {
      "cell_type": "code",
      "metadata": {
        "id": "zOWHF0ludtBv"
      },
      "source": [
        ""
      ],
      "execution_count": null,
      "outputs": []
    },
    {
      "cell_type": "code",
      "metadata": {
        "id": "r-khiCqO1IRs"
      },
      "source": [
        "for i in range(10):\n",
        "  print(i)\n",
        "  if i == 5:\n",
        "    break"
      ],
      "execution_count": null,
      "outputs": []
    },
    {
      "cell_type": "code",
      "metadata": {
        "id": "3dNgIpdPeWvk"
      },
      "source": [
        "for i in range(10):\n",
        "  if i == 5:\n",
        "    break\n",
        "  print(i)"
      ],
      "execution_count": null,
      "outputs": []
    },
    {
      "cell_type": "code",
      "metadata": {
        "id": "lCaNm3rXdBr1"
      },
      "source": [
        "# break で for のループ処理から抜け出せる（ループ強制終了）"
      ],
      "execution_count": null,
      "outputs": []
    },
    {
      "cell_type": "code",
      "metadata": {
        "id": "VNUQ0g5sdBpw"
      },
      "source": [
        ""
      ],
      "execution_count": null,
      "outputs": []
    },
    {
      "cell_type": "code",
      "metadata": {
        "id": "VMSUjBo_1IUb"
      },
      "source": [
        ""
      ],
      "execution_count": null,
      "outputs": []
    },
    {
      "cell_type": "code",
      "metadata": {
        "id": "DBUU-utzwnxb"
      },
      "source": [
        ""
      ],
      "execution_count": null,
      "outputs": []
    },
    {
      "cell_type": "markdown",
      "metadata": {
        "id": "lRVQAr1SwnnD"
      },
      "source": [
        "### 9. 回数がわからない繰り返し処理"
      ]
    },
    {
      "cell_type": "code",
      "metadata": {
        "id": "dGOzEgJC1Kua"
      },
      "source": [
        "i = 0\n",
        "while i < 3:\n",
        "  print(i)\n",
        "  i = i + 1"
      ],
      "execution_count": null,
      "outputs": []
    },
    {
      "cell_type": "code",
      "metadata": {
        "id": "s7N_q2q-1K2k"
      },
      "source": [
        "i = 0\n",
        "while i < 3:\n",
        "  print(i, end=\" \")\n",
        "  i += 1\n",
        "  if i == 2:\n",
        "    break"
      ],
      "execution_count": null,
      "outputs": []
    },
    {
      "cell_type": "code",
      "metadata": {
        "id": "pEEvMp4o1K03"
      },
      "source": [
        "# for文と同様、break で while のループ処理から抜け出せる（ループ強制終了）"
      ],
      "execution_count": null,
      "outputs": []
    },
    {
      "cell_type": "code",
      "metadata": {
        "id": "zw8x7DHFh3DC"
      },
      "source": [
        ""
      ],
      "execution_count": null,
      "outputs": []
    },
    {
      "cell_type": "code",
      "metadata": {
        "id": "TRHQok5B1Kym"
      },
      "source": [
        ""
      ],
      "execution_count": null,
      "outputs": []
    },
    {
      "cell_type": "code",
      "metadata": {
        "id": "y1CGM6c2trSC"
      },
      "source": [
        ""
      ],
      "execution_count": null,
      "outputs": []
    },
    {
      "cell_type": "code",
      "metadata": {
        "id": "DFjqxoNrNjCg"
      },
      "source": [
        "i = 0\n",
        "while i < 9:\n",
        "  i += 1\n",
        "  if i == 1 or i == 3 or i == 4 or i == 7:\n",
        "    continue\n",
        "  j = 0\n",
        "  while j < 9:\n",
        "    j += 1\n",
        "    print(i * j, end=\" \")\n",
        "  print()"
      ],
      "execution_count": null,
      "outputs": []
    },
    {
      "cell_type": "code",
      "metadata": {
        "id": "1JB6qzmIgtY0"
      },
      "source": [
        "# continue でループの次の回の処理へと進む（whileのループ処理自体は終了させずに、現回のループ処理を打ち切る）"
      ],
      "execution_count": null,
      "outputs": []
    },
    {
      "cell_type": "code",
      "metadata": {
        "id": "Z0MHt0B9hfzA"
      },
      "source": [
        ""
      ],
      "execution_count": null,
      "outputs": []
    },
    {
      "cell_type": "code",
      "metadata": {
        "id": "SnhnhCLHhf3C"
      },
      "source": [
        ""
      ],
      "execution_count": null,
      "outputs": []
    },
    {
      "cell_type": "code",
      "metadata": {
        "id": "-Jb-_zxlhfwm"
      },
      "source": [
        ""
      ],
      "execution_count": null,
      "outputs": []
    }
  ]
}